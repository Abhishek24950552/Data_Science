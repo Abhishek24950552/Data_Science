{
 "cells": [
  {
   "cell_type": "markdown",
   "id": "c8e298ee",
   "metadata": {},
   "source": [
    "## Math Module"
   ]
  },
  {
   "cell_type": "code",
   "execution_count": 1,
   "id": "34b5d0b5",
   "metadata": {},
   "outputs": [],
   "source": [
    "import math"
   ]
  },
  {
   "cell_type": "code",
   "execution_count": 4,
   "id": "e047d618",
   "metadata": {},
   "outputs": [
    {
     "name": "stdout",
     "output_type": "stream",
     "text": [
      "11\n",
      "10\n"
     ]
    }
   ],
   "source": [
    "# celi() -->returns smallest integer greater than or equal to x\n",
    "x=10.001\n",
    "print(math.ceil(x))\n",
    "\n",
    "y=10.00\n",
    "print(math.ceil(y))"
   ]
  },
  {
   "cell_type": "code",
   "execution_count": 8,
   "id": "11eb4203",
   "metadata": {},
   "outputs": [
    {
     "name": "stdout",
     "output_type": "stream",
     "text": [
      "10.0\n",
      "10.2\n"
     ]
    }
   ],
   "source": [
    "# fabs() --> returns absolute value\n",
    "x=-10\n",
    "print(math.fabs(x))\n",
    "\n",
    "y=10.2\n",
    "print(math.fabs(y))\n"
   ]
  },
  {
   "cell_type": "code",
   "execution_count": 11,
   "id": "450be9c2",
   "metadata": {},
   "outputs": [
    {
     "name": "stdout",
     "output_type": "stream",
     "text": [
      "120\n"
     ]
    }
   ],
   "source": [
    "# factorial()-->returns factorial of number and returns error for -ve values\n",
    "x=5\n",
    "print(math.factorial(x))"
   ]
  },
  {
   "cell_type": "code",
   "execution_count": 13,
   "id": "edd10851",
   "metadata": {},
   "outputs": [
    {
     "name": "stdout",
     "output_type": "stream",
     "text": [
      "10\n"
     ]
    }
   ],
   "source": [
    "# floor()-->return largest integer less than or equal to x\n",
    "x=10.9999\n",
    "print(math.floor(x))"
   ]
  },
  {
   "cell_type": "code",
   "execution_count": 14,
   "id": "0466e5f2",
   "metadata": {},
   "outputs": [
    {
     "name": "stdout",
     "output_type": "stream",
     "text": [
      "6.0\n",
      "10.0\n"
     ]
    }
   ],
   "source": [
    "# fsum()--> Returns the sum of all items in any iterable (tuples, arrays, lists, etc.)\n",
    "l1=[1,2,3]\n",
    "t1=(1,2,3,4)\n",
    "print(math.fsum(l1))\n",
    "print(math.fsum(t1))"
   ]
  },
  {
   "cell_type": "code",
   "execution_count": 18,
   "id": "30ae88b6",
   "metadata": {},
   "outputs": [
    {
     "name": "stdout",
     "output_type": "stream",
     "text": [
      "False\n",
      "True\n"
     ]
    }
   ],
   "source": [
    "# isnan()--> Checks whether a value is NaN (not a number) or not\n",
    "s1=12\n",
    "print(math.isnan(s1))\n",
    "print (math.isnan (float(\"nan\")))\n"
   ]
  },
  {
   "cell_type": "code",
   "execution_count": 21,
   "id": "16599034",
   "metadata": {},
   "outputs": [
    {
     "name": "stdout",
     "output_type": "stream",
     "text": [
      "11\n"
     ]
    }
   ],
   "source": [
    "#  isqrt()--> Rounds a square root number downwards to the nearest integer\n",
    "s1=143\n",
    "print(math.isqrt(s1))"
   ]
  },
  {
   "cell_type": "code",
   "execution_count": 23,
   "id": "ed4d67ef",
   "metadata": {},
   "outputs": [
    {
     "name": "stdout",
     "output_type": "stream",
     "text": [
      "729.0\n",
      "3.0\n"
     ]
    }
   ],
   "source": [
    "# Returns the value of x to the power of y\n",
    "print(math.pow(9, 3))\n",
    "print(math.pow(9, 0.5))\n",
    "\n"
   ]
  },
  {
   "cell_type": "code",
   "execution_count": 26,
   "id": "2e8adfda",
   "metadata": {},
   "outputs": [
    {
     "name": "stdout",
     "output_type": "stream",
     "text": [
      "72\n"
     ]
    }
   ],
   "source": [
    "# prod()--> Returns the product of all the elements in an iterable\n",
    "l1=[1,2,3,-3,-4]\n",
    "print(math.prod(l1))"
   ]
  },
  {
   "cell_type": "code",
   "execution_count": 31,
   "id": "60345d8e",
   "metadata": {},
   "outputs": [
    {
     "name": "stdout",
     "output_type": "stream",
     "text": [
      "-2.0\n",
      "2.0\n"
     ]
    }
   ],
   "source": [
    "# remainder()--> Returns the closest value that can make numerator completely divisible by the denominator\n",
    "print(math.remainder(-10,4))\n",
    "print(math.remainder(10,4))"
   ]
  },
  {
   "cell_type": "code",
   "execution_count": 32,
   "id": "0fb46783",
   "metadata": {},
   "outputs": [
    {
     "name": "stdout",
     "output_type": "stream",
     "text": [
      "3.605551275463989\n",
      "5.0\n"
     ]
    }
   ],
   "source": [
    "# sqrt()--> Returns the square root of a number\n",
    "print(math.sqrt(13))\n",
    "print(math.sqrt(25))"
   ]
  },
  {
   "cell_type": "code",
   "execution_count": null,
   "id": "8c33e06e",
   "metadata": {},
   "outputs": [],
   "source": []
  }
 ],
 "metadata": {
  "kernelspec": {
   "display_name": "Python 3 (ipykernel)",
   "language": "python",
   "name": "python3"
  },
  "language_info": {
   "codemirror_mode": {
    "name": "ipython",
    "version": 3
   },
   "file_extension": ".py",
   "mimetype": "text/x-python",
   "name": "python",
   "nbconvert_exporter": "python",
   "pygments_lexer": "ipython3",
   "version": "3.10.6"
  }
 },
 "nbformat": 4,
 "nbformat_minor": 5
}
