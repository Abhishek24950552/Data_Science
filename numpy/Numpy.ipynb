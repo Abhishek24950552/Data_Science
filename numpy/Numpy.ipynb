{
 "cells": [
  {
   "cell_type": "markdown",
   "id": "d612ba75",
   "metadata": {},
   "source": [
    "## NUMPY"
   ]
  },
  {
   "cell_type": "code",
   "execution_count": 1,
   "id": "d835cb99",
   "metadata": {},
   "outputs": [],
   "source": [
    "import numpy as np\n",
    "import pandas as pd"
   ]
  },
  {
   "cell_type": "markdown",
   "id": "374fca0d",
   "metadata": {},
   "source": [
    "## Applications of numpy\n"
   ]
  },
  {
   "cell_type": "code",
   "execution_count": null,
   "id": "0aa520b9",
   "metadata": {},
   "outputs": [],
   "source": [
    "1. Linear Algebra\n",
    "2. Statistics\n",
    "3. Trigonometry\n",
    "4. Matrix Operations\n",
    "5. IMage Processing\n",
    "6. Logarithmic "
   ]
  },
  {
   "cell_type": "markdown",
   "id": "5bea88ff",
   "metadata": {},
   "source": [
    "## Properties\n"
   ]
  },
  {
   "cell_type": "code",
   "execution_count": null,
   "id": "98b166ce",
   "metadata": {},
   "outputs": [],
   "source": [
    "1. It is a collection homogeneous datatypes\n",
    "2. Numpy is faster than List\n",
    "3. Numpy is written in C and C++ Language (Partially in Python)\n",
    "4. C Language is Faster than Python"
   ]
  },
  {
   "cell_type": "markdown",
   "id": "7fac01ea",
   "metadata": {},
   "source": [
    "## Functions"
   ]
  },
  {
   "cell_type": "code",
   "execution_count": null,
   "id": "fed1f22b",
   "metadata": {},
   "outputs": [],
   "source": [
    "1. np.array()\n",
    "# syntax -->np.array(object,dtype,ndim=0,1,2,3)\n",
    "\n",
    "2. array.ndim()\n",
    "# syntax --> array1.ndim() --> returns dimension of array\n",
    "\n",
    "3. array.shape()\n",
    "# syntax --> array1.shape() --> returns tuple(number of rows , number of columns)\n",
    "# to get no of rows --> array1.shape()[0]\n",
    "# to get no of columns --> array1.shape()[-1]\n",
    "\n",
    "4.array.reshape()\n",
    "# it is used to change shape of arrray\n",
    "# here no of elements in array should be always same after reshaping else we get get\n",
    "# eg 1d of 12 elements can be reshaped to other shapes only containing 12 elements\n",
    "# syntax --> array1.reshape(2,3)\n",
    "\n",
    "5. array.tolist()\n",
    "# Dimensioanl Numpy array tolist\n",
    "# convert any dim array to list\n",
    "\n",
    "6. np.nditer()\n",
    "# it is used to get all elements from array without using nested if statements\n",
    "# syntax --> np.nditer(array1)\n",
    "\n",
    "7. np.ndenumerate()\n",
    "# ndenemerate is used to get index and value of items in array\n",
    "# syntax --> np.ndenumerate(array1)\n",
    "\n",
    "8. array.flatten() # copy\n",
    "# it is used to flatten any dim array to 1d array\n",
    "# syntax --> array1.flatten()\n",
    "\n",
    "9. array.ravel()  # reference\n",
    "# it just create ref to array\n",
    "# any changes made in original array reflects in ref obj\n",
    "# syntax --> array1.ravel()\n",
    "\n",
    "10. array.copy()\n",
    "# it is ussed to create copy of array\n",
    "# here deep copy is created hence changes made in original array is not reflected in copy array\n",
    "# syntax --> array1.copy()\n",
    "\n",
    "11. np.zeros()\n",
    "# it is used to create array containing only zeros\n",
    "# syntax --> np.zeros((shape),dtype)\n",
    "\n",
    "12. np.ones()\n",
    "# it is used to create array containing only ones\n",
    "# syntax --> np.ones((shape),dtype)\n",
    "\n",
    "13. np.full()\n",
    "# it is used to create array containing only any number passed \n",
    "# syntax --> np.full((shape),value to fill array,dtype)\n",
    "\n",
    "14. np.arange()\n",
    "# syntax --> np.arange(start value , end value , dtype)\n",
    "\n",
    "15. np.around()\n",
    "# used to round values to given digit in array of any shape\n",
    "# syntax --> np.around(array1)\n",
    "\n",
    "16. np.linspace()\n",
    "# returns evenly spaces values between start and end values\n",
    "# syntax --> np.linspace(start , end , number of elements required)\n",
    "\n",
    "17. np.eye()\n",
    "# creates 2d array which contains 1 as digonal element and other elements zero\n",
    "# syntax --> np.eye(no of rows, no of column(optional) , dtype)\n",
    "\n",
    "18. np.identity()\n",
    "# creates identity matrix \n",
    "# syntax --> np.identity(no of rows,dtype)\n",
    "\n",
    "19. np.random:\n",
    "\n",
    "    1. np.random.rand()\n",
    "#     creates array of given shape containing random values between 0-1\n",
    "#     syntax --> np.random.rand(no of rows , no of columns)\n",
    "    \n",
    "    2. np.random.randint()\n",
    "#     creates array of given shape containing random values between any two values\n",
    "#     syntax --> np.random.randint(val1,val2,(no of rows , no of columns))\n",
    "    \n",
    "    3. np.random.randn()\n",
    "    \n",
    "    4. np.random.ranf()\n",
    "#     creates array of given shape containing random values between 0-1\n",
    "#     syntax --> np.random.ranf((no of rows , no of columns))\n",
    "\n",
    "20. np.append()\n",
    "# append value to end of array\n",
    "# default axis is none we can specify axis as 0 or 1\n",
    "# syntax --> np.append(array1,array2)\n",
    "\n",
    "21. np.concatenate()\n",
    "# used to concatnate arrays\n",
    "# default axix is 0 if we make axis as none it will flatten arrays\n",
    "# syntax --> np.concatenate(arra1,array2,..)\n",
    "\n",
    "22. np.sort()\n",
    "# syntax --> np.sort(array1) ascending order\n",
    "#           -np.sort(array1) descending order\n",
    "\n",
    "23. np.add()\n",
    "# array are required to have same shape \n",
    "# syntax --> np.add(array1,array2)\n",
    "\n",
    "24. np.multiply()\n",
    "# array are required to have same shape\n",
    "# syntax --> np.multiply(array1,array2)\n",
    "\n",
    "25. np.dot()\n",
    "# gives dot product of matrix\n",
    "# here no of column of first matrix should be eqaul to no of rows of second matrix\n",
    "\n",
    "26. np.floor()\n",
    "# performs floor division on each item in array\n",
    "# syntax --> np.floor(array1)\n",
    "\n",
    "27. np.ceil() # next value if .something is present 10.0000009 --> 10.\n",
    "# syntax --> np.ceil(array1)\n",
    "# converts values to nxt int like 4.99-->5.00 4.00009-->5.00 and 4.0000-->4.00\n",
    "\n",
    "28. np.sqrt()\n",
    "# used to find sruare root of all elements in array\n",
    "#  syntax --> np.sqrt(array1)\n",
    "\n",
    "29. np.cbrt()\n",
    "# used to find cube root of items in array\n",
    "# syntax --> np.cbrt(array1)\n",
    "\n",
    "30. np.where()\n",
    "# used to find index of perticular item in array\n",
    "# returns list of indexs\n",
    "\n",
    "# numpy statistics functions\n",
    "\n",
    "1. np.mean()\n",
    "# used to find mean value from array\n",
    "# syntax --> np.mean(array1)\n",
    "\n",
    "2. np.median()\n",
    "# used to find median value from array\n",
    "# syntax --> np.median(array1)\n",
    "\n",
    "3. np.std()\n",
    "# used to find value of standard deviation\n",
    "# syntax --> np.std(array1)\n",
    "\n",
    "4. np.var()\n",
    "# used to find varaiance \n",
    "# syntax --> np.var(array1)\n",
    "\n",
    "5. np.sum()\n",
    "# used to find sum of values from array\n",
    "# syntax --> np.sum(array1)\n",
    "\n",
    "6. np.max()\n",
    "# used to find max value from array\n",
    "# syntax --> np.max(array1)\n",
    "\n",
    "7. np.min()\n",
    "# used to find min value from array\n",
    "# syntax --> np.min(array1)\n",
    "\n",
    "8. scipy.stats.mode()\n",
    "# used to find moad value from array\n",
    "# mode is not present in numpy lib so we need to import mode from scipy lib\n",
    "# from scipy.stats import mode\n",
    "# syntax --> mode(array1)\n",
    "\n",
    "# numpy linear algebra functions\n",
    "\n",
    "1. np.linalg.solve()\n",
    "# it is used to solve quadratic equations\n",
    "# syntax --> np.linalg.solve(array1,array2)\n",
    "\n",
    "2. np.linalg.inv()\n",
    "# it is used to get inverse of array\n",
    "# syntax --> np.linalg.inv()\n",
    "\n",
    "3. np.polynomial.Polynomial()\n",
    "# it is used to create polynomial equation\n",
    "# syntax --> np.polynomial.Polynomial\n",
    "\n",
    "4.poly.roots()\n",
    "# it is used to find roots of given polynomial function\n",
    "# syntax --> equation1.roots()\n",
    "\n",
    "5. np.linalg.eig()\n",
    "# it is used to get eigen vectors of matrix\n",
    "# syntax --> np.linalg.eig(array1)\n",
    "\n",
    "6. np.linalg.eigvals()\n",
    "# it is used to get eigen values\n",
    "# syntax --> np.linalg.eigenvalues(array1)\n",
    "\n",
    "# numpy lograthmic functions\n",
    "\n",
    "1. np.log()\n",
    "# it gives values of natura log\n",
    "# syntax --> np.log(array1)\n",
    "\n",
    "2. np.log2()\n",
    "# it gives values of log to base 2\n",
    "# syntax --> np.log2(array1)\n",
    "\n",
    "3. np.log10()\n",
    "# it gives values of log to base 10\n",
    "# syntax --> np.log10(array1)\n",
    "\n",
    "# numpy trigonometry functions\n",
    "\n",
    "1. np.sin()\n",
    "# used to get sin values\n",
    "\n",
    "2. np.cos()\n",
    "# used to get cos values\n",
    "\n",
    "3. np.tan()\n",
    "# used to get tan values\n",
    "\n",
    "4. np.deg2rad()\n",
    "# used to convert degree to radians\n",
    "\n",
    "5. np.rad2deg()\n",
    "# used to conver radians to degree"
   ]
  },
  {
   "cell_type": "markdown",
   "id": "520542aa",
   "metadata": {},
   "source": [
    "### np.array"
   ]
  },
  {
   "cell_type": "code",
   "execution_count": 4,
   "id": "a58e8d3e",
   "metadata": {},
   "outputs": [
    {
     "name": "stdout",
     "output_type": "stream",
     "text": [
      "[1 2 3 4 5]\n",
      "[1 2 3 4]\n",
      "[3 4 5 6 7 8]\n",
      "[2.  3.  4.  4.4 5.  6. ]\n",
      "[2. +0.j 3. +0.j 4. +0.j 4.4+0.j 5. +7.j 6. +0.j]\n"
     ]
    }
   ],
   "source": [
    "# np.array() is used to create numpy array\n",
    "\n",
    "a1 = np.array([1,2,3,4,5])\n",
    "print(a1)\n",
    "\n",
    "l1=[1,2,3,4]\n",
    "a2= np.array(l1)\n",
    "print(a2)\n",
    "\n",
    "s1 = {3,4,5,6,7,8}\n",
    "a3 = np.array(list(s1))\n",
    "print(a3)\n",
    "\n",
    "n1=[2,3,4,4.4,5,6]\n",
    "a4=np.array(n1)\n",
    "print(a4) # here all values will be converted to float\n",
    "\n",
    "n1=[2,3,4,4.4,5+7j,6]\n",
    "a5=np.array(n1)\n",
    "print(a5) # here all values will be converted to complex"
   ]
  },
  {
   "cell_type": "markdown",
   "id": "ee4e58d0",
   "metadata": {},
   "source": [
    "### type casting in np array"
   ]
  },
  {
   "cell_type": "code",
   "execution_count": null,
   "id": "136c928b",
   "metadata": {},
   "outputs": [],
   "source": [
    "int>>string\n",
    "int>>float\n",
    "int>>complex\n",
    "float>>int\n",
    "float>>str\n",
    "complex>>to  -->we cannot typecast complex datatype"
   ]
  },
  {
   "cell_type": "code",
   "execution_count": 9,
   "id": "d662929b",
   "metadata": {},
   "outputs": [
    {
     "name": "stdout",
     "output_type": "stream",
     "text": [
      "[1 2 3 4]\n",
      "[1 2 3 4]\n",
      "[1 2 3 4]\n",
      "[1. 2. 3. 4.]\n",
      "[1. 2. 3. 4.]\n",
      "[1. 2. 3. 4.]\n",
      "[1.+0.j 2.+0.j 3.+0.j 4.+0.j]\n",
      "[1.+0.j 2.+0.j 3.+0.j 4.+0.j]\n",
      "['1' '2' '3' '4']\n",
      "['1' '2' '3' '4']\n"
     ]
    }
   ],
   "source": [
    "# methodes for crateing np array with int\n",
    "\n",
    "a1=np.array([1,2,3,4],dtype=int)\n",
    "print(a1)\n",
    "a2=np.array([1,2,3,4],dtype='int')\n",
    "print(a2)\n",
    "a3=np.array([1,2,3,4],dtype='i')\n",
    "print(a3)\n",
    "\n",
    "\n",
    "# type casting int to float\n",
    "a1=np.array([1,2,3,4],dtype=float)\n",
    "print(a1)\n",
    "a2=np.array([1,2,3,4],dtype='f')\n",
    "print(a2)\n",
    "a3=np.array([1,2,3,4],dtype='float')\n",
    "print(a3)\n",
    "\n",
    "# typecasting int to complex\n",
    "a1=np.array([1,2,3,4],dtype=complex)\n",
    "print(a1)\n",
    "a2=np.array([1,2,3,4],dtype='complex')\n",
    "print(a2)\n",
    "\n",
    "# typecasting int to str\n",
    "a1=np.array([1,2,3,4],dtype=str)\n",
    "print(a1)\n",
    "a2=np.array([1,2,3,4],dtype='str')\n",
    "print(a2)\n",
    "\n",
    "# type casting from float to int\n",
    "\n",
    "a1=np.array([1.1,2.2,3.3,4.4],dtype=int)\n",
    "print(a1)\n",
    "a2=np.array([1.1,2.2,3.3,4.4],dtype='int')\n",
    "print(a2)\n",
    "a1=np.array([1.1,2.2,3.3,4.4],dtype='i')\n",
    "print(a1)\n",
    "\n",
    "# typecasting from float to str\n",
    "\n",
    "a1=np.array([1.1,2.2,3.3,4.4],dtype=str)\n",
    "print(a1)\n",
    "a2=np.array([1.1,2.2,3.3,4.4],dtype='str')\n",
    "print(a2)\n",
    "\n",
    "# typecasting from float to complex\n",
    "\n",
    "a1 = np.array([3,4,5.45,6.12,6,7],dtype = complex)\n",
    "a1\n",
    "\n",
    "# typecasting from complex\n",
    "# typecasting of complex is not possible to any data type"
   ]
  },
  {
   "cell_type": "markdown",
   "id": "848bd686",
   "metadata": {},
   "source": [
    "### Performing numeric opernation on np.array"
   ]
  },
  {
   "cell_type": "code",
   "execution_count": 13,
   "id": "46b699d1",
   "metadata": {},
   "outputs": [
    {
     "name": "stdout",
     "output_type": "stream",
     "text": [
      "[30 40 50 60 70]\n",
      "[13 14 15 16 17]\n",
      "[-7 -6 -5 -4 -3]\n",
      "[0 0 0 0 0]\n",
      "[3 4 5 6 7]\n"
     ]
    }
   ],
   "source": [
    "# unlike list as np array is homogeneous datatype it is possible to directly apply\n",
    "# operation on individual emlement directly \n",
    "\n",
    "a1 = np.array([3,4,5,6,7])\n",
    "print(a1*10)  \n",
    "\n",
    "a1 = np.array([3,4,5,6,7])\n",
    "print(a1+10)\n",
    "\n",
    "a1 = np.array([3,4,5,6,7])\n",
    "print(a1-10)\n",
    "\n",
    "a1 = np.array([30,40,50,60,70])\n",
    "print(a1%10)\n",
    "\n",
    "a1 = np.array([30,40,50,60,70])\n",
    "print(a1//10)"
   ]
  },
  {
   "cell_type": "code",
   "execution_count": 17,
   "id": "60d89247",
   "metadata": {},
   "outputs": [
    {
     "name": "stdout",
     "output_type": "stream",
     "text": [
      "<class 'numpy.ndarray'>\n",
      "[ 27  64 125 216 343]\n",
      "[27, 64, 125, 216, 343]\n"
     ]
    }
   ],
   "source": [
    "# converting np array to list\n",
    "\n",
    "list1 = [3,4,5,6,7]\n",
    "cubes = np.array(list1) ** 3\n",
    "print(type(cubes)) # here type is 'numpy.ndarray'\n",
    "list(cubes)\n",
    "\n",
    "list1 = [3,4,5,6,7]\n",
    "cubes = np.array(list1) ** 3\n",
    "cubes.tolist()\n",
    "print(cubes) \n",
    "\n",
    "list1 = [3,4,5,6,7]\n",
    "cubes = (np.array(list1)**3).tolist()\n",
    "print(cubes)"
   ]
  },
  {
   "cell_type": "markdown",
   "id": "222ff872",
   "metadata": {},
   "source": [
    "### Dimensions in np array"
   ]
  },
  {
   "cell_type": "code",
   "execution_count": 30,
   "id": "fea17f09",
   "metadata": {},
   "outputs": [
    {
     "name": "stdout",
     "output_type": "stream",
     "text": [
      "<class 'numpy.ndarray'>\n",
      "0\n",
      "10\n",
      "()\n",
      "<class 'numpy.ndarray'>\n",
      "1\n",
      "[1 2 3 4 5 6]\n",
      "(6,)\n",
      "<class 'numpy.ndarray'>\n",
      "2\n",
      "[[1 2 3]\n",
      " [2 3 4]]\n",
      "(2, 3)\n",
      "<class 'numpy.ndarray'>\n",
      "3\n",
      "[[[  4   5   6]\n",
      "  [  7 102  40]\n",
      "  [ 10  50  90]\n",
      "  [  1   2   3]]\n",
      "\n",
      " [[  4   5   6]\n",
      "  [  7 102  40]\n",
      "  [ 10  50  90]\n",
      "  [  1   2   3]]]\n",
      "(2, 4, 3)\n"
     ]
    }
   ],
   "source": [
    "# zero dim array\n",
    "a1=np.array(10)\n",
    "print(type(a1))\n",
    "print(a1.ndim)\n",
    "print(a1)\n",
    "print(a1.shape)\n",
    "\n",
    "# one dim array\n",
    "a1=np.array([1,2,3,4,5,6])\n",
    "print(type(a1))\n",
    "print(a1.ndim)\n",
    "print(a1)\n",
    "print(a1.shape)\n",
    "\n",
    "# two dim arrray\n",
    "a1=np.array([[1,2,3],[2,3,4]])\n",
    "print(type(a1))\n",
    "print(a1.ndim)\n",
    "print(a1)\n",
    "print(a1.shape)\n",
    "\n",
    "# three dim array\n",
    "a1 = np.array([[[4,5,6],[7,102,40],[10,50,90],[1,2,3]],[[4,5,6],[7,102,40],[10,50,90],[1,2,3]]])\n",
    "print(type(a1))\n",
    "print(a1.ndim)\n",
    "print(a1)\n",
    "print(a1.shape)\n"
   ]
  },
  {
   "cell_type": "markdown",
   "id": "9902adf9",
   "metadata": {},
   "source": [
    "### Indexing and Sclicing in np array"
   ]
  },
  {
   "cell_type": "code",
   "execution_count": 8,
   "id": "d763e08f",
   "metadata": {
    "scrolled": true
   },
   "outputs": [
    {
     "name": "stdout",
     "output_type": "stream",
     "text": [
      "this is a2\n",
      " [[2 3 4 8]\n",
      " [1 6 7 8]]\n",
      "******************************\n",
      "3\n",
      "3\n",
      "[[2 3]\n",
      " [1 6]]\n",
      "******************************\n",
      "this is a3\n",
      " [[ 2  3  4  8]\n",
      " [ 1  6  7  8]\n",
      " [10 20 30 54]]\n",
      "******************************\n",
      "[[ 7  8]\n",
      " [30 54]]\n",
      "[[2 3]\n",
      " [1 6]]\n",
      "******************************\n",
      "this is a1\n",
      " [[[  4   5   6]\n",
      "  [  7 102  40]\n",
      "  [ 10  50  90]\n",
      "  [  1   2   3]]\n",
      "\n",
      " [[  4   5   6]\n",
      "  [  7 102  40]\n",
      "  [ 10  50  90]\n",
      "  [  1   2   3]]]\n",
      "******************************\n",
      "[[50 90]\n",
      " [ 2  3]]\n",
      "[[[  4   5]\n",
      "  [  7 102]\n",
      "  [ 10  50]\n",
      "  [  1   2]]\n",
      "\n",
      " [[  4   5]\n",
      "  [  7 102]\n",
      "  [ 10  50]\n",
      "  [  1   2]]]\n",
      "******************************\n"
     ]
    }
   ],
   "source": [
    "# 2d array\n",
    "# [n][m]-->n is row and m is column\n",
    "a2 = np.array([[2,3,4,8],[1,6,7,8]])\n",
    "print('this is a2\\n',a2)\n",
    "print('*'*30)\n",
    "print(a2[0][1])\n",
    "print(a2[0,1])\n",
    "print(a2[:,:2])\n",
    "print('*'*30)\n",
    "\n",
    "a3 = np.array([[2,3,4,8],[1,6,7,8],[10,20,30,54]])\n",
    "print('this is a3\\n',a3)\n",
    "print('*'*30)\n",
    "print(a3[1:,2:])\n",
    "print(a3[:2,:2])\n",
    "print('*'*30)\n",
    "\n",
    "# 3d array\n",
    "a1 = np.array([[[4,5,6],[7,102,40],[10,50,90],[1,2,3]],[[4,5,6],[7,102,40],[10,50,90],[1,2,3]]])\n",
    "print('this is a1\\n',a1)\n",
    "print('*'*30)\n",
    "print(a1[0,2:,1:])\n",
    "print(a1[:,:,:2])\n",
    "print('*'*30)\n"
   ]
  },
  {
   "cell_type": "markdown",
   "id": "b2cdc6c9",
   "metadata": {},
   "source": [
    "### reshape()"
   ]
  },
  {
   "cell_type": "code",
   "execution_count": 50,
   "id": "756ec065",
   "metadata": {},
   "outputs": [
    {
     "name": "stdout",
     "output_type": "stream",
     "text": [
      "(12,)\n",
      "******************************\n",
      "[[ 2  3  4]\n",
      " [ 5  1  6]\n",
      " [ 7  8  9]\n",
      " [20 30 40]]\n",
      "(4, 3)\n",
      "******************************\n",
      "[[ 2  3  4  5]\n",
      " [ 1  6  7  8]\n",
      " [ 9 20 30 40]]\n",
      "(3, 4)\n",
      "******************************\n",
      "[[[ 2  3]\n",
      "  [ 4  5]]\n",
      "\n",
      " [[ 1  6]\n",
      "  [ 7  8]]\n",
      "\n",
      " [[ 9 20]\n",
      "  [30 40]]]\n",
      "(3, 2, 2)\n",
      "******************************\n"
     ]
    }
   ],
   "source": [
    "# we can reshape only when multiplication is same as number of emlements\n",
    "a1 = np.array([2,3,4,5,1,6,7,8,9,20,30,40])\n",
    "print(a1.shape)\n",
    "print('*'*30)\n",
    "a1=a1.reshape(4,3)\n",
    "print(a1)\n",
    "print(a1.shape)\n",
    "print('*'*30)\n",
    "\n",
    "a1=a1.reshape(3,4)\n",
    "print(a1)\n",
    "print(a1.shape)\n",
    "print('*'*30)\n",
    "\n",
    "a1=a1.reshape(3,2,2)\n",
    "print(a1)\n",
    "print(a1.shape)\n",
    "print('*'*30)\n",
    "\n"
   ]
  },
  {
   "cell_type": "markdown",
   "id": "48d4cd9f",
   "metadata": {},
   "source": [
    "### nditer()"
   ]
  },
  {
   "cell_type": "code",
   "execution_count": 54,
   "id": "31970935",
   "metadata": {},
   "outputs": [
    {
     "name": "stdout",
     "output_type": "stream",
     "text": [
      "20\n",
      "30\n",
      "40\n",
      "5\n",
      "6\n",
      "1\n",
      "2\n",
      "3\n",
      "4\n",
      "5\n",
      "1\n",
      "6\n",
      "7\n",
      "8\n",
      "9\n",
      "20\n",
      "30\n",
      "40\n"
     ]
    }
   ],
   "source": [
    "# it is used to iterate numpy array\n",
    "\n",
    "arr2 = np.array([[20, 30, 40], [ 5, 6, 1]])\n",
    "for i in np.nditer(arr2):\n",
    "    print(i)\n",
    "    \n",
    "a1=np.array([[[ 2,3],[ 4,5]],[[ 1 , 6],[ 7,  8]],[[ 9, 20],[30 ,40]]])\n",
    "for i in np.nditer(a1):\n",
    "    print(i)"
   ]
  },
  {
   "cell_type": "markdown",
   "id": "d941e2d1",
   "metadata": {},
   "source": [
    "### ndenumerate()"
   ]
  },
  {
   "cell_type": "code",
   "execution_count": 55,
   "id": "4ae36fbe",
   "metadata": {},
   "outputs": [
    {
     "name": "stdout",
     "output_type": "stream",
     "text": [
      "(0,) 3\n",
      "(1,) 4\n",
      "(2,) 5\n",
      "(3,) 6\n",
      "(4,) 7\n",
      "(5,) 8\n",
      "******************************\n",
      "(0, 0, 0) 2\n",
      "(0, 0, 1) 3\n",
      "(0, 1, 0) 4\n",
      "(0, 1, 1) 5\n",
      "(1, 0, 0) 1\n",
      "(1, 0, 1) 6\n",
      "(1, 1, 0) 7\n",
      "(1, 1, 1) 8\n",
      "(2, 0, 0) 9\n",
      "(2, 0, 1) 20\n",
      "(2, 1, 0) 30\n",
      "(2, 1, 1) 40\n"
     ]
    }
   ],
   "source": [
    "# can be used to get index ao each value in matrix\n",
    "array1 = np.array([3,4,5,6,7,8])\n",
    "for i,v in np.ndenumerate(array1):\n",
    "    print(i,v)\n",
    "print('*'*30)\n",
    "a1=np.array([[[ 2,3],[ 4,5]],[[ 1 , 6],[ 7,  8]],[[ 9, 20],[30 ,40]]])\n",
    "for i,v in np.ndenumerate(a1):\n",
    "    print(i,v)\n"
   ]
  },
  {
   "cell_type": "markdown",
   "id": "31763700",
   "metadata": {},
   "source": [
    "### flaten"
   ]
  },
  {
   "cell_type": "code",
   "execution_count": null,
   "id": "0d9b33f8",
   "metadata": {},
   "outputs": [],
   "source": [
    "Used to convert n-Dimensional array to 1-D array"
   ]
  },
  {
   "cell_type": "code",
   "execution_count": 12,
   "id": "48dbd9ac",
   "metadata": {},
   "outputs": [
    {
     "name": "stdout",
     "output_type": "stream",
     "text": [
      "[  3   4   5   6   7   8  10  20  30 100 200 400]\n"
     ]
    }
   ],
   "source": [
    "a1 = np.array([[[3,4,5],[6,7,8]],[[10,20,30],[100,200,400]]])\n",
    "a2 = a1.flatten()\n",
    "print(a2)"
   ]
  },
  {
   "cell_type": "markdown",
   "id": "7a70cbe9",
   "metadata": {},
   "source": [
    "### ravel"
   ]
  },
  {
   "cell_type": "code",
   "execution_count": null,
   "id": "b4dcd7d1",
   "metadata": {},
   "outputs": [],
   "source": [
    "Used to covert n-D array to 1-D array\n",
    "It returns only reference of original array\n",
    "If we make changes in original array it will refelect in ravel "
   ]
  },
  {
   "cell_type": "code",
   "execution_count": 14,
   "id": "71259957",
   "metadata": {},
   "outputs": [
    {
     "name": "stdout",
     "output_type": "stream",
     "text": [
      "[[[  3   4   5]\n",
      "  [  6   7   8]]\n",
      "\n",
      " [[ 10  20  30]\n",
      "  [100 200 400]]]\n",
      "[  3   4   5   6   7   8  10  20  30 100 200 400]\n",
      "[[[1000    4    5]\n",
      "  [   6    7    8]]\n",
      "\n",
      " [[  10   20   30]\n",
      "  [ 100  200  400]]]\n",
      "[1000    4    5    6    7    8   10   20   30  100  200  400]\n"
     ]
    }
   ],
   "source": [
    "array3 = np.array([[[3,4,5],[6,7,8]],[[10,20,30],[100,200,400]]])\n",
    "print(array3)\n",
    "\n",
    "array5 = array3.ravel()\n",
    "print(array5)\n",
    "\n",
    "array3[0,0,0]=1000\n",
    "\n",
    "print(array3)\n",
    "print(array5)"
   ]
  },
  {
   "cell_type": "markdown",
   "id": "f13607a4",
   "metadata": {},
   "source": [
    "### copy"
   ]
  },
  {
   "cell_type": "code",
   "execution_count": null,
   "id": "3e6ec241",
   "metadata": {},
   "outputs": [],
   "source": [
    "numpy copy always returns deep copy\n",
    "changes in original array is not refelected in copy"
   ]
  },
  {
   "cell_type": "code",
   "execution_count": 15,
   "id": "db2cc6af",
   "metadata": {},
   "outputs": [
    {
     "name": "stdout",
     "output_type": "stream",
     "text": [
      "arr1 :\n",
      " [[ 4  5  6]\n",
      " [10 20 40]]\n",
      "arr2 :\n",
      " [[   4    5    6]\n",
      " [1000   20   40]]\n"
     ]
    }
   ],
   "source": [
    "arr1 = np.array([[4,5,6],[10,20,40]])\n",
    "arr2 = arr1.copy()  # Deep Copy\n",
    "\n",
    "arr2[1][0] = 1000\n",
    "\n",
    "print(\"arr1 :\\n\",arr1)\n",
    "print(\"arr2 :\\n\",arr2)"
   ]
  },
  {
   "cell_type": "markdown",
   "id": "348cf20c",
   "metadata": {},
   "source": [
    "### Diff between copy and ravel\n"
   ]
  },
  {
   "cell_type": "code",
   "execution_count": 22,
   "id": "10cbaa12",
   "metadata": {},
   "outputs": [
    {
     "name": "stdout",
     "output_type": "stream",
     "text": [
      "result of copy\n",
      "a1 :\n",
      " [[   4    5 6666]\n",
      " [  10   20   40]]\n",
      "****************************************\n",
      "a2 :\n",
      " [   4    5 6666   10   20   40]\n",
      "\n",
      "----------------------------------------\n",
      "\n",
      "result of ravel\n",
      "arr2 [ 4  5  6 10 20 40]\n",
      "arr1 :\n",
      " [[   4    5 6666]\n",
      " [  10   20   40]]\n",
      "****************************************\n",
      "arr2 :\n",
      " [   4    5 6666   10   20   40]\n"
     ]
    }
   ],
   "source": [
    "# copy\n",
    "# creates deep copy of array\n",
    "print('result of copy')\n",
    "a1 = np.array([[4,5,6],[10,20,40]])\n",
    "a2 = a1.copy()  # Deep Copy\n",
    "\n",
    "a2[1][0] = 1000\n",
    "\n",
    "print(\"a1 :\\n\",arr1)\n",
    "print(\"*\"*40)\n",
    "print(\"a2 :\\n\",arr2)\n",
    "\n",
    "print()\n",
    "print(\"-\"*40)\n",
    "print()\n",
    "print('result of ravel')\n",
    "\n",
    "# ravel\n",
    "# ravel returns 1d array as result\n",
    "arr1 = np.array([[4,5,6],[10,20,40]])\n",
    "arr2 = arr1.ravel()\n",
    "print(\"arr2\",arr2)\n",
    "\n",
    "arr2[2] = 6666\n",
    "\n",
    "print(\"arr1 :\\n\",arr1)\n",
    "print(\"*\"*40)\n",
    "print(\"arr2 :\\n\",arr2)"
   ]
  },
  {
   "cell_type": "markdown",
   "id": "0ae98403",
   "metadata": {},
   "source": [
    "### Creating numpy arrays using zeros , ones and full function"
   ]
  },
  {
   "cell_type": "code",
   "execution_count": 33,
   "id": "dfa4a2f8",
   "metadata": {},
   "outputs": [
    {
     "name": "stdout",
     "output_type": "stream",
     "text": [
      "[0 0 0 0 0 0 0 0 0 0]\n",
      "[[0 0 0 0]\n",
      " [0 0 0 0]\n",
      " [0 0 0 0]\n",
      " [0 0 0 0]\n",
      " [0 0 0 0]]\n",
      "[[0. 0. 0. 0.]\n",
      " [0. 0. 0. 0.]\n",
      " [0. 0. 0. 0.]\n",
      " [0. 0. 0. 0.]\n",
      " [0. 0. 0. 0.]]\n",
      "[1 1 1 1 1 1 1 1 1 1]\n",
      "[[1. 1. 1.]\n",
      " [1. 1. 1.]]\n",
      "[4 4 4 4 4 4 4 4 4 4]\n",
      "[[6 6 6 6 6]\n",
      " [6 6 6 6 6]\n",
      " [6 6 6 6 6]\n",
      " [6 6 6 6 6]]\n"
     ]
    }
   ],
   "source": [
    "# zeros\n",
    "# syntax --> np.zeros((shape),dtype)\n",
    "a1=np.zeros(10,dtype='i')\n",
    "print(a1)\n",
    "a2=np.zeros((5,4),'i')\n",
    "print(a2)\n",
    "a3=np.zeros((5,4),'f')\n",
    "print(a3)\n",
    "\n",
    "# ones\n",
    "# syntax --> np.ones((shape),dtype)\n",
    "o1=np.ones(10,dtype='i')\n",
    "print(o1)\n",
    "o2=np.ones((2,3),dtype='f')\n",
    "print(o2)\n",
    "\n",
    "# full\n",
    "# syntax --> np.full((shape),value)\n",
    "f1=np.full(10,4)\n",
    "print(f1)\n",
    "f2=np.full((4,5),6)\n",
    "print(f2)"
   ]
  },
  {
   "cell_type": "markdown",
   "id": "2daf6d30",
   "metadata": {},
   "source": [
    "### arange"
   ]
  },
  {
   "cell_type": "code",
   "execution_count": 35,
   "id": "307e5df4",
   "metadata": {},
   "outputs": [
    {
     "name": "stdout",
     "output_type": "stream",
     "text": [
      "[1 2 3 4 5 6 7 8 9]\n",
      "[10  8  6  4  2]\n"
     ]
    }
   ],
   "source": [
    "# creates array from values within given range\n",
    "# syntax --> np.arange(start,end,step)\n",
    "a1=np.arange(1,10,1)\n",
    "print(a1)\n",
    "a2=np.arange(10,0,-2)\n",
    "print(a2)"
   ]
  },
  {
   "cell_type": "markdown",
   "id": "c50be6a2",
   "metadata": {},
   "source": [
    "### around"
   ]
  },
  {
   "cell_type": "code",
   "execution_count": 38,
   "id": "b04579fa",
   "metadata": {},
   "outputs": [
    {
     "name": "stdout",
     "output_type": "stream",
     "text": [
      "[1.22 3.44 5.67]\n",
      "[[ 4.568  6.346]\n",
      " [10.123  9.346]]\n",
      "[[4.57, 6.35], [10.12, 9.35]]\n"
     ]
    }
   ],
   "source": [
    "# rounda values in array upto given number\n",
    "\n",
    "# 1d array\n",
    "a1=np.array([1.2222,3.4444,5.66666])\n",
    "print(np.around(a1,2))\n",
    "\n",
    "# 2d array\n",
    "arr1 = np.array( [[4.5678,6.345678], [10.123456,9.3456]]) \n",
    "print(np.around(arr1,3))\n",
    "\n",
    "# to round values in nested list\n",
    "# first convert list to array and use around function and again convert to list using tolist function\n",
    "l1=[[4.5678,6.345678], [10.123456,9.3456]]\n",
    "a=np.array(l1)\n",
    "r=np.round(a,2)\n",
    "l2=r.tolist()\n",
    "print(l2)"
   ]
  },
  {
   "cell_type": "markdown",
   "id": "3292109a",
   "metadata": {},
   "source": [
    "### linspace"
   ]
  },
  {
   "cell_type": "code",
   "execution_count": null,
   "id": "495afb75",
   "metadata": {},
   "outputs": [],
   "source": [
    "np.linspace(start, end, num = 50)\n",
    "default it returns 50 values\n",
    "It returns array of evenly spaced values between start to end"
   ]
  },
  {
   "cell_type": "code",
   "execution_count": 3,
   "id": "619a156e",
   "metadata": {},
   "outputs": [
    {
     "name": "stdout",
     "output_type": "stream",
     "text": [
      "[10. 11. 12. 13. 14. 15. 16. 17. 18. 19.]\n"
     ]
    }
   ],
   "source": [
    "array1= np.linspace(10,19,10)\n",
    "print(array1)"
   ]
  },
  {
   "cell_type": "markdown",
   "id": "62902012",
   "metadata": {},
   "source": [
    "### eye"
   ]
  },
  {
   "cell_type": "code",
   "execution_count": 42,
   "id": "f754ad1a",
   "metadata": {},
   "outputs": [
    {
     "name": "stdout",
     "output_type": "stream",
     "text": [
      "[[1 0 0 0]\n",
      " [0 1 0 0]\n",
      " [0 0 1 0]\n",
      " [0 0 0 1]]\n",
      "[[1 0 0 0 0]\n",
      " [0 1 0 0 0]\n",
      " [0 0 1 0 0]\n",
      " [0 0 0 1 0]]\n"
     ]
    }
   ],
   "source": [
    "# Return a 2-D array with ones on the diagonal and zeros elsewhere.\n",
    "# syntax --> np.eye(row,column,dtype)\n",
    "\n",
    "a1=np.eye(4,dtype='i')\n",
    "print(a1)\n",
    "\n",
    "a2=np.eye(4,5,dtype='i')\n",
    "print(a2)"
   ]
  },
  {
   "cell_type": "markdown",
   "id": "ba1c1bf9",
   "metadata": {},
   "source": [
    "### identity"
   ]
  },
  {
   "cell_type": "code",
   "execution_count": 44,
   "id": "03859a4c",
   "metadata": {},
   "outputs": [
    {
     "data": {
      "text/plain": [
       "array([[1, 0, 0, 0],\n",
       "       [0, 1, 0, 0],\n",
       "       [0, 0, 1, 0],\n",
       "       [0, 0, 0, 1]])"
      ]
     },
     "execution_count": 44,
     "metadata": {},
     "output_type": "execute_result"
    }
   ],
   "source": [
    "# syntax --> np.identiti(row,dtype)\n",
    "arr1 = np.identity(4,dtype = int)\n",
    "arr1"
   ]
  },
  {
   "cell_type": "markdown",
   "id": "2b2f40b3",
   "metadata": {},
   "source": [
    "## random"
   ]
  },
  {
   "cell_type": "code",
   "execution_count": null,
   "id": "b9bb3258",
   "metadata": {},
   "outputs": [],
   "source": [
    "Used to generate random numbers\n",
    "random:\n",
    "    1. random.rand\n",
    "    2. random.randint\n",
    "    3. random.randn\n",
    "    4. random.ranf"
   ]
  },
  {
   "cell_type": "markdown",
   "id": "ad5a25f1",
   "metadata": {},
   "source": [
    "### random.rand"
   ]
  },
  {
   "cell_type": "code",
   "execution_count": 47,
   "id": "a349a4d5",
   "metadata": {},
   "outputs": [
    {
     "name": "stdout",
     "output_type": "stream",
     "text": [
      "[0.71743219 0.13780183 0.24891006 0.44754076 0.36300001]\n",
      "[[0.44243126 0.34481347 0.31794772]\n",
      " [0.31037688 0.75737875 0.53179365]]\n"
     ]
    }
   ],
   "source": [
    "# It return random values between 0 to 1\n",
    "# syntax --> np.random.rand(row,column)\n",
    "array1 = np.random.rand(5)\n",
    "print(array1)\n",
    "\n",
    "a1=np.random.rand(2,3)\n",
    "print(a1)\n"
   ]
  },
  {
   "cell_type": "markdown",
   "id": "a45a75ae",
   "metadata": {},
   "source": [
    "### random.randint"
   ]
  },
  {
   "cell_type": "code",
   "execution_count": 49,
   "id": "70c7eb20",
   "metadata": {},
   "outputs": [
    {
     "name": "stdout",
     "output_type": "stream",
     "text": [
      "[11 15 17 17 15 12 12 17 11 13]\n",
      "[[17 19 13 10 16]\n",
      " [16 13 11 16 13]\n",
      " [17 19 15 18 16]\n",
      " [12 13 11 11 15]]\n"
     ]
    }
   ],
   "source": [
    "# it returns random value between two values \n",
    "# syntax --> np.random.randint(start,end,size=(row,column))\n",
    "a1=np.random.randint(10,20,10)\n",
    "print(a1)\n",
    "\n",
    "a2=np.random.randint(10,20,size=(4,5))\n",
    "print(a2)"
   ]
  },
  {
   "cell_type": "markdown",
   "id": "22708ce5",
   "metadata": {},
   "source": [
    "### random.randn"
   ]
  },
  {
   "cell_type": "markdown",
   "id": "9e882fc3",
   "metadata": {},
   "source": [
    "### random.ranf"
   ]
  },
  {
   "cell_type": "code",
   "execution_count": 53,
   "id": "5cde3668",
   "metadata": {},
   "outputs": [
    {
     "name": "stdout",
     "output_type": "stream",
     "text": [
      "[[0.95768145 0.42072301 0.71686936 0.10010405 0.93218751 0.82124689]\n",
      " [0.1261437  0.93646262 0.6868182  0.0147514  0.68325002 0.52816037]\n",
      " [0.67940134 0.0099937  0.68611473 0.94894895 0.74901168 0.42852443]]\n",
      "[0.89490184 0.06982163 0.18014113]\n"
     ]
    }
   ],
   "source": [
    "# It Returns values in 0 to 1\n",
    "# syntax --> np.random.ranf((shape)\n",
    "a1=np.random.ranf((3,6))\n",
    "print(a1)\n",
    "a2=np.random.ranf(3)\n",
    "print(a2)"
   ]
  },
  {
   "cell_type": "markdown",
   "id": "cf37eb97",
   "metadata": {},
   "source": [
    "### append"
   ]
  },
  {
   "cell_type": "code",
   "execution_count": null,
   "id": "38cca748",
   "metadata": {},
   "outputs": [],
   "source": [
    "new_array = np.append(array1,array2,axis = None)\n",
    "value >> n-D array\n",
    "return 1d array if we do not mention axix\n",
    "default axis is none so it will flatten given arrays and then append and return 1D array\n",
    "axis = 0 >> Row operation\n",
    "axis = 1 >> Columns operation"
   ]
  },
  {
   "cell_type": "code",
   "execution_count": 15,
   "id": "fa0de725",
   "metadata": {},
   "outputs": [
    {
     "name": "stdout",
     "output_type": "stream",
     "text": [
      "[ 36  35  30  18  31  21  27  24  27  17 555]\n",
      "[36 35 30 18 27 17 10 20 30 40]\n",
      "[36 35 30 18 27 17 10 20 30 40]\n",
      "[ 1  2  3  4 10 20 30 40 30 40]\n",
      "New Array \n",
      " [[36 35]\n",
      " [30 18]\n",
      " [10 20]\n",
      " [30 40]\n",
      " [30 40]]\n",
      "(5, 2)\n",
      "New Array \n",
      " [[36 35 10 20  8]\n",
      " [30 18 30 40  8]]\n",
      "(2, 5)\n"
     ]
    }
   ],
   "source": [
    "# appending single value to array\n",
    "array1 = np.array([36, 35, 30, 18, 31, 21, 27, 24, 27, 17])\n",
    "new_array = np.append(array1, 555)\n",
    "print(new_array)\n",
    "\n",
    "# appending 2 arrays to create new array\n",
    "array2 = np.array([36, 35, 30, 18, 27, 17])\n",
    "array3 = np.array([10,20,30,40])\n",
    "new_array = np.append(array2, array3)\n",
    "print(new_array)\n",
    "\n",
    "array2 = np.array([36, 35, 30, 18, 27, 17])\n",
    "array3 = np.array([[10,20],[30,40]])\n",
    "new_array = np.append(array2, array3)\n",
    "print(new_array)\n",
    "\n",
    "array2 = np.array([[1,2],[3,4]])\n",
    "array3 = np.array([[10,20],[30,40],[30,40]])\n",
    "new_array = np.append(array2, array3)\n",
    "print(new_array)\n",
    "\n",
    "# when axis = 0 it will perform operation on row \n",
    "# elements are added in row i.e rows are created\n",
    "# here in both array no of column should be same but rows can be different\n",
    "array1 = np.array([[36, 35], [30, 18]])\n",
    "array2 = np.array([[10,20],[30,40],[30,40]])\n",
    "new_array = np.append(array1,array2,axis = 0) \n",
    "print(\"New Array \\n\",new_array)\n",
    "print(new_array.shape)\n",
    "\n",
    "# when axis = 1 it will perform operation on column\n",
    "# elements are added in new clumns i.e column are created\n",
    "# here no of rows in both array should be same but no of column can be different\n",
    "array1 = np.array([[36, 35], [30, 18]])\n",
    "array2 = np.array([[10,20,8],[30,40,8]])\n",
    "new_array = np.append(array1,array2,axis = 1)\n",
    "print(\"New Array \\n\",new_array)\n",
    "print(new_array.shape)"
   ]
  },
  {
   "cell_type": "markdown",
   "id": "3e5329dd",
   "metadata": {},
   "source": [
    "### concatenate"
   ]
  },
  {
   "cell_type": "code",
   "execution_count": null,
   "id": "cdb35972",
   "metadata": {},
   "outputs": [],
   "source": [
    "np.concatenate([array1, array2, ...,arrayN],axis = 0)\n",
    "dim of each array should be same\n",
    "axis = 0 >> Rows\n",
    "axis = 1 >> COlumns\n",
    "default axis is 0 if we do not pass axis it takes 0 "
   ]
  },
  {
   "cell_type": "code",
   "execution_count": 23,
   "id": "1bb678d6",
   "metadata": {},
   "outputs": [
    {
     "name": "stdout",
     "output_type": "stream",
     "text": [
      "New Array \n",
      " [[36 35 10 20  9 10 20]\n",
      " [30 18 30 40  9 30 40]]\n",
      "(2, 7)\n",
      "\n",
      " [[36 35]\n",
      " [30 18]\n",
      " [10 20]\n",
      " [30 40]\n",
      " [30 40]\n",
      " [10 20]]\n"
     ]
    }
   ],
   "source": [
    "# when axis = 1 it will perform operation on column\n",
    "# elements are added in new clumns i.e column are created\n",
    "# here no of rows in both array should be same but no of column can be different\n",
    "array1 = np.array([[36, 35], [30, 18]])\n",
    "array2 = np.array([[10,20,9],[30,40,9]])\n",
    "array3 = np.array([[10,20],[30,40]])\n",
    "new_array = np.concatenate([array1,array2,array3],axis = 1)\n",
    "print(\"New Array \\n\",new_array)\n",
    "print(new_array.shape)\n",
    "\n",
    "# when axis = 0 it will perform operation on row \n",
    "# elements are added in row i.e rows are created\n",
    "# here in both array no of co;umn should be same but rows can be different\n",
    "array1 = np.array([[36, 35], [30, 18]])\n",
    "array2 = np.array([[10,20],[30,40],[30,40]])\n",
    "array3 = np.array([[10,20]])\n",
    "new_array = np.concatenate([array1,array2,array3],axis=0)\n",
    "print('\\n',new_array)"
   ]
  },
  {
   "cell_type": "markdown",
   "id": "a54ed83f",
   "metadata": {},
   "source": [
    "### sort"
   ]
  },
  {
   "cell_type": "code",
   "execution_count": null,
   "id": "87027ec3",
   "metadata": {},
   "outputs": [],
   "source": [
    "sorted_array = np.sort(array)\n",
    "syntax --> np.sort(array,axis)\n",
    "axis = 0 it will sort each column \n",
    "axis = 1 it will sort each row\n",
    "\n",
    "np.sort(array1) --> sort in ascending oredr\n",
    "-np.sort(-array1) --> sort in descending order"
   ]
  },
  {
   "cell_type": "code",
   "execution_count": 27,
   "id": "43f0c208",
   "metadata": {},
   "outputs": [
    {
     "name": "stdout",
     "output_type": "stream",
     "text": [
      "[28 21 38 42 38 39]\n",
      "[21 28 38 38 39 42]\n",
      "[[35 40 20 33]\n",
      " [25 47 25 26]\n",
      " [35 37 46 36]]\n",
      "[[25 37 20 26]\n",
      " [35 40 25 33]\n",
      " [35 47 46 36]]\n",
      "[[20 33 35 40]\n",
      " [25 25 26 47]\n",
      " [35 36 37 46]]\n"
     ]
    }
   ],
   "source": [
    "array1 = np.random.randint(20,50,size = 6)\n",
    "print(array1)\n",
    "sorted_array=np.sort(array1)\n",
    "print(sorted_array)\n",
    "\n",
    "\n",
    "array1 = np.random.randint(20,50,size = (3,4))\n",
    "print(array1)\n",
    "sorted_array=np.sort(array1,axis=0)\n",
    "print(sorted_array)\n",
    "sorted_array=np.sort(array1,axis=1)\n",
    "print(sorted_array)\n",
    "\n",
    "# sorting in ascending order\n",
    "array1=np.array([1,20,13,6,4,8,20])\n",
    "print(np.sort(array1))\n",
    "\n",
    "# sorting in descending order\n",
    "array1=np.array([1,20,13,6,4,8,20])\n",
    "print(-np.sort(-array1))"
   ]
  },
  {
   "cell_type": "markdown",
   "id": "1fd43a8b",
   "metadata": {},
   "source": [
    "### add"
   ]
  },
  {
   "cell_type": "code",
   "execution_count": null,
   "id": "ba542109",
   "metadata": {},
   "outputs": [],
   "source": [
    "matrix addn\n",
    "requires same no of elements both arrays"
   ]
  },
  {
   "cell_type": "code",
   "execution_count": 30,
   "id": "a6b3c1ac",
   "metadata": {},
   "outputs": [
    {
     "name": "stdout",
     "output_type": "stream",
     "text": [
      "matrix1 :\n",
      " [[12 14]\n",
      " [11 13]]\n",
      "matrix2 :\n",
      " [[31 38]\n",
      " [30 22]]\n",
      "addn is \n",
      " [[43 52]\n",
      " [41 35]]\n"
     ]
    }
   ],
   "source": [
    "m1 = np.random.randint(10,20,size = (2,2))\n",
    "m2 = np.random.randint(20,40,size = (2,2))\n",
    "print(\"matrix1 :\\n\",m1)\n",
    "print(\"matrix2 :\\n\",m2)\n",
    "\n",
    "addn= np.add(m1,m2)\n",
    "print('addn is \\n',addn)\n",
    "\n",
    "\n",
    "m1=np.array([1,2,3])\n",
    "m2=np.array([1,2])\n",
    "print(np.add(m1,m2)) #not possible as no of elements id deffn\n",
    "\n",
    "\n",
    "matrix1 = np.random.randint(10,20,size = (2,2))\n",
    "matrix2 = np.random.randint(20,40,size = (3,2))\n",
    "print(\"matrix1 :\\n\",matrix1)\n",
    "print(\"matrix2 :\\n\",matrix2)\n",
    "np.add(matrix1, matrix2) # cannot perform as size is diff (2,2) and (3,2)"
   ]
  },
  {
   "cell_type": "markdown",
   "id": "f366a7c5",
   "metadata": {},
   "source": [
    "### multplication"
   ]
  },
  {
   "cell_type": "code",
   "execution_count": 31,
   "id": "4fb1b99e",
   "metadata": {},
   "outputs": [
    {
     "name": "stdout",
     "output_type": "stream",
     "text": [
      "matrix1 :\n",
      " [[7 7]\n",
      " [6 8]]\n",
      "matrix2 :\n",
      " [[14 19]\n",
      " [14 12]]\n"
     ]
    },
    {
     "data": {
      "text/plain": [
       "array([[ 98, 133],\n",
       "       [ 84,  96]])"
      ]
     },
     "execution_count": 31,
     "metadata": {},
     "output_type": "execute_result"
    }
   ],
   "source": [
    "matrix1 = np.random.randint(1,10,size = (2,2))\n",
    "matrix2 = np.random.randint(10,20,size = (2,2))\n",
    "\n",
    "print(\"matrix1 :\\n\",matrix1)\n",
    "print(\"matrix2 :\\n\",matrix2)\n",
    "np.multiply(matrix1, matrix2)"
   ]
  },
  {
   "cell_type": "markdown",
   "id": "9ee0a24d",
   "metadata": {},
   "source": [
    "### dot product"
   ]
  },
  {
   "cell_type": "code",
   "execution_count": null,
   "id": "c640b7ab",
   "metadata": {},
   "outputs": [],
   "source": [
    "imp condition is no of columns in matrix1 = no of rows in matrix2 \n",
    "result:\n",
    "    no of rows= no of rows in matrix1\n",
    "    no of column = no of column in matrix2"
   ]
  },
  {
   "cell_type": "code",
   "execution_count": 9,
   "id": "9f735199",
   "metadata": {},
   "outputs": [
    {
     "name": "stdout",
     "output_type": "stream",
     "text": [
      "matrix1 :\n",
      " [[5 5 8 7 4]\n",
      " [4 3 1 7 9]\n",
      " [2 8 7 5 5]]\n",
      "matrix2 :\n",
      " [[10 17 14 14]\n",
      " [14 12 11 11]\n",
      " [19 12 11 12]\n",
      " [16 16 18 15]\n",
      " [10 19 15 16]]\n",
      "[[424 429 399 390]\n",
      " [303 399 361 350]\n",
      " [395 389 358 355]]\n",
      "[[424 429 399 390]\n",
      " [303 399 361 350]\n",
      " [395 389 358 355]]\n"
     ]
    }
   ],
   "source": [
    "matrix1 = np.random.randint(1,10,size = (3,5))\n",
    "matrix2 = np.random.randint(10,20,size = (5,4))\n",
    "print(\"matrix1 :\\n\",matrix1)\n",
    "print(\"matrix2 :\\n\",matrix2)\n",
    "dot = np.dot(matrix1,matrix2)\n",
    "x=np.matmul(matrix1,matrix2)#matmul can also be used to perform matrix multiplaction\n",
    "print(dot)\n",
    "print(x)"
   ]
  },
  {
   "cell_type": "markdown",
   "id": "f25bebf7",
   "metadata": {},
   "source": [
    "### math operation on array"
   ]
  },
  {
   "cell_type": "code",
   "execution_count": 41,
   "id": "f1e26d54",
   "metadata": {},
   "outputs": [
    {
     "name": "stdout",
     "output_type": "stream",
     "text": [
      "[2000 5000 7000 3000 8000]\n",
      "[20. 50. 70. 30. 80.]\n",
      "[20 50 70 30 80]\n",
      "[190 490 690 290 790]\n",
      "[0 0 0 0 0]\n",
      "[ 40000 250000 490000  90000 640000]\n",
      "[  8000000 125000000 343000000  27000000 512000000]\n"
     ]
    }
   ],
   "source": [
    "array1 = np.array([200,500,700,300,800])\n",
    "\n",
    "print(array1*10)\n",
    "print(array1/10)\n",
    "print(array1//10)\n",
    "print(array1-10)\n",
    "print(array1%10)\n",
    "print(array1**2)\n",
    "print(array1**3)"
   ]
  },
  {
   "cell_type": "markdown",
   "id": "a6174b4d",
   "metadata": {},
   "source": [
    "### floor"
   ]
  },
  {
   "cell_type": "code",
   "execution_count": 43,
   "id": "02d72259",
   "metadata": {},
   "outputs": [
    {
     "name": "stdout",
     "output_type": "stream",
     "text": [
      "[ 4.  9.  1. 10.  5.]\n",
      "[[ 4.  9.]\n",
      " [ 1. 10.]]\n"
     ]
    }
   ],
   "source": [
    "# here we perform floor dividion on each element\n",
    "print(np.floor([4.23, 9.12, 1.3456, 10.67, 5.78]))\n",
    "print(np.floor([[4.23, 9.12], [1.3456, 10.67]]))"
   ]
  },
  {
   "cell_type": "markdown",
   "id": "1f8f2158",
   "metadata": {},
   "source": [
    "### celi"
   ]
  },
  {
   "cell_type": "code",
   "execution_count": 45,
   "id": "80fdfef8",
   "metadata": {},
   "outputs": [
    {
     "name": "stdout",
     "output_type": "stream",
     "text": [
      "[ 5. 10.  2. 11.  6.]\n",
      "[[ 5. 10.]\n",
      " [ 2. 11.]]\n"
     ]
    }
   ],
   "source": [
    "# 4.23-->5 or 4.0000001-->5 and 4.0000-->4\n",
    "array1 = np.array([4.23, 9.12, 1.3456, 10.67, 5.78])\n",
    "print(np.ceil(array1))\n",
    "\n",
    "array1 = np.array([[4.23, 9.00001], [1.3456, 10.67]])\n",
    "print(np.ceil(array1))"
   ]
  },
  {
   "cell_type": "markdown",
   "id": "f9c2569b",
   "metadata": {},
   "source": [
    "### sqrt"
   ]
  },
  {
   "cell_type": "code",
   "execution_count": 47,
   "id": "f63fe3fc",
   "metadata": {},
   "outputs": [
    {
     "name": "stdout",
     "output_type": "stream",
     "text": [
      "[1. 2. 3. 4. 5.]\n",
      "[14.14213562 17.32050808 20.        ]\n"
     ]
    }
   ],
   "source": [
    "a1=np.array([1,4,9,16,25])\n",
    "print(np.sqrt(a1))\n",
    "\n",
    "a2=np.array([200,300,400])\n",
    "print(np.sqrt(a2))\n"
   ]
  },
  {
   "cell_type": "markdown",
   "id": "0772b533",
   "metadata": {},
   "source": [
    "### cbrt"
   ]
  },
  {
   "cell_type": "code",
   "execution_count": 48,
   "id": "f2e8b6f7",
   "metadata": {},
   "outputs": [
    {
     "name": "stdout",
     "output_type": "stream",
     "text": [
      "[ 5.84803548  6.6943295  10.        ]\n"
     ]
    }
   ],
   "source": [
    "a1=np.array([200,300,1000])\n",
    "print(np.cbrt(a1))"
   ]
  },
  {
   "cell_type": "markdown",
   "id": "7ef78f75",
   "metadata": {},
   "source": [
    "### where"
   ]
  },
  {
   "cell_type": "code",
   "execution_count": 56,
   "id": "2d1267d6",
   "metadata": {},
   "outputs": [
    {
     "name": "stdout",
     "output_type": "stream",
     "text": [
      "(array([1, 2, 6, 7], dtype=int64),)\n",
      "[[7 7 2 4 4]\n",
      " [6 1 1 8 5]\n",
      " [7 5 2 9 5]]\n",
      "(array([1, 2, 2], dtype=int64), array([4, 1, 4], dtype=int64))\n"
     ]
    }
   ],
   "source": [
    "# returns list of index where element is present\n",
    "a1=np.array([1,2,2,4,5,6,2,2])\n",
    "print(np.where(a1==2))\n",
    "\n",
    "matrix1 = np.random.randint(1,10,size = (3,5))\n",
    "print(matrix1)\n",
    "print(np.where(matrix1==5))"
   ]
  },
  {
   "cell_type": "code",
   "execution_count": 2,
   "id": "aef3ab3b",
   "metadata": {},
   "outputs": [
    {
     "name": "stdout",
     "output_type": "stream",
     "text": [
      "[1, 2, 3]\n",
      "[1, 2, 3, 4, 5, 6]\n"
     ]
    }
   ],
   "source": [
    "l1=[1,2,3]\n",
    "l2=l1\n",
    "l1=l2+[4,5,6]\n",
    "print(l2)\n",
    "l2=l1\n",
    "print(l2)"
   ]
  },
  {
   "cell_type": "markdown",
   "id": "79865047",
   "metadata": {},
   "source": [
    "## numpy stats functions"
   ]
  },
  {
   "cell_type": "code",
   "execution_count": null,
   "id": "64bfd1fb",
   "metadata": {},
   "outputs": [],
   "source": [
    "1. Mean\n",
    "2. Median\n",
    "3. Mode\n",
    "4. Variance\n",
    "5. Standard Devaitation"
   ]
  },
  {
   "cell_type": "code",
   "execution_count": null,
   "id": "88c66caf",
   "metadata": {},
   "outputs": [],
   "source": [
    "1. np.mean()\n",
    "# used to find mean value from array\n",
    "# syntax --> np.mean(array1)\n",
    "\n",
    "2. np.median()\n",
    "# used to find median value from array\n",
    "# syntax --> np.median(array1)\n",
    "\n",
    "3. np.std()\n",
    "# used to find value of standard deviation\n",
    "# syntax --> np.std(array1)\n",
    "\n",
    "4. np.var()\n",
    "# used to find varaiance \n",
    "# syntax --> np.var(array1)\n",
    "\n",
    "5. np.sum()\n",
    "# used to find sum of values from array\n",
    "# syntax --> np.sum(array1)\n",
    "\n",
    "6. np.max()\n",
    "# used to find max value from array\n",
    "# syntax --> np.max(array1)\n",
    "\n",
    "7. np.min()\n",
    "# used to find min value from array\n",
    "# syntax --> np.min(array1)\n",
    "\n",
    "8. scipy.stats.mode()\n",
    "# used to find moad value from array\n",
    "# mode is not present in numpy lib so we need to import mode from scipy lib\n",
    "# from scipy.stats import mode\n",
    "# syntax --> mode(array1)"
   ]
  },
  {
   "cell_type": "markdown",
   "id": "ca4df917",
   "metadata": {},
   "source": [
    "### mean"
   ]
  },
  {
   "cell_type": "code",
   "execution_count": 7,
   "id": "d198b724",
   "metadata": {},
   "outputs": [
    {
     "name": "stdout",
     "output_type": "stream",
     "text": [
      "[16 13 10 19 11 14 11 14 18 18]\n",
      "14.4\n",
      "[[17 19 15]\n",
      " [11 12 10]\n",
      " [10 13 12]]\n",
      "13.222222222222221\n"
     ]
    }
   ],
   "source": [
    "a1=np.random.randint(10,20,10)\n",
    "print(a1)\n",
    "mean= np.mean(a1)\n",
    "print(mean)\n",
    "\n",
    "a2=np.random.randint(10,20,(3,3))\n",
    "print(a2)\n",
    "print(np.mean(a2))\n",
    "\n"
   ]
  },
  {
   "cell_type": "markdown",
   "id": "bc9bf656",
   "metadata": {},
   "source": [
    "### median"
   ]
  },
  {
   "cell_type": "code",
   "execution_count": 11,
   "id": "49c7a062",
   "metadata": {},
   "outputs": [
    {
     "name": "stdout",
     "output_type": "stream",
     "text": [
      "[14 19 17 13 10 16 15 18 13 19]\n",
      "15.5\n",
      "[15 17 17 11 16 11 11 15 19]\n",
      "15.0\n",
      "[[11 16]\n",
      " [18 13]]\n",
      "14.5\n"
     ]
    }
   ],
   "source": [
    "a1=np.random.randint(10,20,10)\n",
    "print(a1)\n",
    "print(np.median(a1))\n",
    "\n",
    "a1=np.random.randint(10,20,9)\n",
    "print(a1)\n",
    "print(np.median(a1))\n",
    "\n",
    "a1=np.random.randint(10,20,(2,2))\n",
    "print(a1)\n",
    "print(np.median(a1))"
   ]
  },
  {
   "cell_type": "markdown",
   "id": "828915de",
   "metadata": {},
   "source": [
    "### std"
   ]
  },
  {
   "cell_type": "code",
   "execution_count": 13,
   "id": "b37f74f9",
   "metadata": {},
   "outputs": [
    {
     "name": "stdout",
     "output_type": "stream",
     "text": [
      "[15 14 15 15 13]\n",
      "0.8\n",
      "[[14 13 15]\n",
      " [18 10 13]\n",
      " [16 15 12]]\n",
      "2.211083193570267\n"
     ]
    }
   ],
   "source": [
    "a1=np.random.randint(10,20,5)\n",
    "print(a1)\n",
    "std=np.std(a1)\n",
    "print(std)\n",
    "\n",
    "a1=np.random.randint(10,20,(3,3))\n",
    "print(a1)\n",
    "std=np.std(a1)\n",
    "print(std)"
   ]
  },
  {
   "cell_type": "markdown",
   "id": "9f8bc1c9",
   "metadata": {},
   "source": [
    "### variance"
   ]
  },
  {
   "cell_type": "code",
   "execution_count": 14,
   "id": "af244987",
   "metadata": {},
   "outputs": [
    {
     "name": "stdout",
     "output_type": "stream",
     "text": [
      "[18 16 18 11 17 19 14 14 18 17]\n",
      "variance 5.5600000000000005\n"
     ]
    }
   ],
   "source": [
    "a1=np.random.randint(10,20,10)\n",
    "print(a1)\n",
    "print('variance',np.var(a1))"
   ]
  },
  {
   "cell_type": "markdown",
   "id": "d45e3e86",
   "metadata": {},
   "source": [
    "### mean median std deviation and variance"
   ]
  },
  {
   "cell_type": "code",
   "execution_count": 15,
   "id": "457b9031",
   "metadata": {},
   "outputs": [
    {
     "name": "stdout",
     "output_type": "stream",
     "text": [
      "[17 10 10 19 11 10 17 10 11 14]\n",
      "mean is : 12.9\n",
      "median is : 11.0\n",
      "standard deviation is : 3.3600595232822887\n",
      "variance is : 11.290000000000001\n"
     ]
    }
   ],
   "source": [
    "a1=np.random.randint(10,20,10)\n",
    "print(a1)\n",
    "print('mean is :',np.mean(a1))\n",
    "print('median is :',np.median(a1))\n",
    "print('standard deviation is :',np.std(a1))\n",
    "print('variance is :',np.var(a1))"
   ]
  },
  {
   "cell_type": "markdown",
   "id": "9ec3820e",
   "metadata": {},
   "source": [
    "## mode"
   ]
  },
  {
   "cell_type": "code",
   "execution_count": null,
   "id": "bac50fba",
   "metadata": {},
   "outputs": [],
   "source": [
    "mode is not present in numpy lib\n",
    "we need to import scipy lib and from that stat and mode\n",
    "from scipy.stats import mode"
   ]
  },
  {
   "cell_type": "code",
   "execution_count": 5,
   "id": "1e29f6ac",
   "metadata": {},
   "outputs": [],
   "source": [
    "from scipy.stats import mode"
   ]
  },
  {
   "cell_type": "code",
   "execution_count": 6,
   "id": "554e2bef",
   "metadata": {},
   "outputs": [
    {
     "name": "stdout",
     "output_type": "stream",
     "text": [
      "ModeResult(mode=array([27]), count=array([3]))\n",
      "Mode is : ModeResult(mode=array([27]), count=array([3]))\n"
     ]
    },
    {
     "name": "stderr",
     "output_type": "stream",
     "text": [
      "C:\\Users\\abhi\\AppData\\Local\\Temp\\ipykernel_1912\\4237380603.py:2: FutureWarning: Unlike other reduction functions (e.g. `skew`, `kurtosis`), the default behavior of `mode` typically preserves the axis it acts along. In SciPy 1.11.0, this behavior will change: the default value of `keepdims` will become False, the `axis` over which the statistic is taken will be eliminated, and the value None will no longer be accepted. Set `keepdims` to True or False to avoid this warning.\n",
      "  Mode = mode(array2)\n"
     ]
    },
    {
     "data": {
      "text/plain": [
       "27"
      ]
     },
     "execution_count": 6,
     "metadata": {},
     "output_type": "execute_result"
    }
   ],
   "source": [
    "array2 = np.array([17, 27, 27,29,27])\n",
    "Mode = mode(array2)\n",
    "print(Mode)\n",
    "print(\"Mode is :\",Mode)\n",
    "Mode[0][0]"
   ]
  },
  {
   "cell_type": "markdown",
   "id": "a9b7f03c",
   "metadata": {},
   "source": [
    "### max min sum"
   ]
  },
  {
   "cell_type": "code",
   "execution_count": 22,
   "id": "0c388550",
   "metadata": {},
   "outputs": [
    {
     "name": "stdout",
     "output_type": "stream",
     "text": [
      "19\n",
      "11\n",
      "158\n"
     ]
    }
   ],
   "source": [
    "a1=np.random.randint(10,20,10)\n",
    "print(max(a1))\n",
    "print(min(a1))\n",
    "print(sum(a1))"
   ]
  },
  {
   "cell_type": "markdown",
   "id": "720087f1",
   "metadata": {},
   "source": [
    "## numpy linear algebra functions"
   ]
  },
  {
   "cell_type": "code",
   "execution_count": null,
   "id": "f332e744",
   "metadata": {},
   "outputs": [],
   "source": [
    "1. np.linalg.solve()\n",
    "# it is used to solve quadratic equations\n",
    "# syntax --> np.linalg.solve(array1,array2)\n",
    "\n",
    "2. np.linalg.inv()\n",
    "# it is used to get inverse of array\n",
    "# syntax --> np.linalg.inv()\n",
    "\n",
    "3. np.polynomial.Polynomial()\n",
    "# it is used to create polynomial equation\n",
    "# syntax --> np.polynomial.Polynomial\n",
    "\n",
    "4.poly.roots()\n",
    "# it is used to find roots of given polynomial function\n",
    "# syntax --> equation1.roots()\n",
    "\n",
    "5. np.linalg.eig()\n",
    "# it is used to get eigen vectors of matrix\n",
    "# syntax --> np.linalg.eig(array1)\n",
    "\n",
    "6. np.linalg.eigvals()\n",
    "# it is used to get eigen values\n",
    "# syntax --> np.linalg.eigenvalues(array1)"
   ]
  },
  {
   "cell_type": "code",
   "execution_count": 27,
   "id": "d66ddf06",
   "metadata": {},
   "outputs": [
    {
     "name": "stdout",
     "output_type": "stream",
     "text": [
      "[-0.33333333  0.66666667]\n",
      "Array A is :\n",
      " [[2 3 5]\n",
      " [3 9 4]\n",
      " [5 3 7]]\n",
      "Array B is :\n",
      " [100 140 120]\n",
      "[-3.7037037   9.87654321 15.55555556]\n"
     ]
    }
   ],
   "source": [
    "# how to solve quadratic equations\n",
    "# 1x+2y=1 4x+5y=2\n",
    "\n",
    "a1=np.array([[1,2],[4,5]])\n",
    "a2=np.array([1,2])\n",
    "result = np.linalg.solve(a1,a2)\n",
    "print(result)\n",
    "\n",
    "a1=np.array([])\n",
    "\n",
    "# 2x + 3y + 5z = 100 3x + 9y + 4z = 140 5x + 3y + 7z = 120\n",
    "a1 = np.array([[2,3,5],[3,9,4],[5,3,7]])\n",
    "a2 = np.array([100,140,120])\n",
    "print(\"Array A is :\\n\",a1)\n",
    "print(\"Array B is :\\n\",a2)\n",
    "result=np.linalg.solve(a1,a2)\n",
    "print(result)"
   ]
  },
  {
   "cell_type": "markdown",
   "id": "d3492fd8",
   "metadata": {},
   "source": [
    "### inverse of array"
   ]
  },
  {
   "cell_type": "code",
   "execution_count": 29,
   "id": "78a7a457",
   "metadata": {},
   "outputs": [
    {
     "data": {
      "text/plain": [
       "array([[ 1.        , -0.33333333],\n",
       "       [-0.33333333,  0.22222222]])"
      ]
     },
     "execution_count": 29,
     "metadata": {},
     "output_type": "execute_result"
    }
   ],
   "source": [
    "a1 = np.array([[2,3],[3,9]])\n",
    "np.linalg.inv(a1)"
   ]
  },
  {
   "cell_type": "markdown",
   "id": "17356fab",
   "metadata": {},
   "source": [
    "### roots"
   ]
  },
  {
   "cell_type": "code",
   "execution_count": 32,
   "id": "80f2bc8b",
   "metadata": {},
   "outputs": [
    {
     "name": "stdout",
     "output_type": "stream",
     "text": [
      "1.0 + 2.0 x**1 + 3.0 x**2\n",
      "[-0.33333333-0.47140452j -0.33333333+0.47140452j]\n",
      "[-1.25-0.66143783j -1.25+0.66143783j]\n"
     ]
    }
   ],
   "source": [
    "# to create polynomial equation\n",
    "a1=np.polynomial.Polynomial([1,2,3])\n",
    "print(a1)\n",
    "\n",
    "# to find roots of polynomial equation\n",
    "a1=np.polynomial.Polynomial([1,2,3])\n",
    "print(a1.roots())\n",
    "\n",
    "a2=np.polynomial.Polynomial([4,5,2])\n",
    "print(a2.roots())"
   ]
  },
  {
   "cell_type": "code",
   "execution_count": 34,
   "id": "0ed76261",
   "metadata": {},
   "outputs": [
    {
     "data": {
      "text/latex": [
       "$x \\mapsto \\text{3.0} + \\text{4.0}\\,x + \\text{2.0}\\,x^{2} + \\text{1.0}\\,x^{3}$"
      ],
      "text/plain": [
       "Polynomial([3., 4., 2., 1.], domain=[-1,  1], window=[-1,  1])"
      ]
     },
     "execution_count": 34,
     "metadata": {},
     "output_type": "execute_result"
    }
   ],
   "source": [
    "from numpy.polynomial import Polynomial\n",
    "\n",
    "poly = Polynomial([3,4,2,1])\n",
    "poly"
   ]
  },
  {
   "cell_type": "markdown",
   "id": "7515142e",
   "metadata": {},
   "source": [
    "### eigen values and eigen vectors"
   ]
  },
  {
   "cell_type": "code",
   "execution_count": 33,
   "id": "b461b41c",
   "metadata": {},
   "outputs": [
    {
     "name": "stdout",
     "output_type": "stream",
     "text": [
      "[40.78659907 -5.20749179 -0.57910728]\n",
      "[[ 0.63774354  0.84292101 -0.0067697 ]\n",
      " [ 0.52451425 -0.47799727 -0.74334823]\n",
      " [ 0.56406381 -0.24698741  0.66887038]]\n"
     ]
    }
   ],
   "source": [
    "array1=np.random.randint(10,20,(3,3))\n",
    "eigen_values, eigen_vectors = np.linalg.eig(array1)\n",
    "print(eigen_values)\n",
    "print(eigen_vectors)"
   ]
  },
  {
   "cell_type": "markdown",
   "id": "bef2172b",
   "metadata": {},
   "source": [
    "## numpy lograthmic functions"
   ]
  },
  {
   "cell_type": "code",
   "execution_count": null,
   "id": "de841341",
   "metadata": {},
   "outputs": [],
   "source": [
    "1. np.log()\n",
    "# it gives values of natura log\n",
    "# syntax --> np.log(array1)\n",
    "\n",
    "2. np.log2()\n",
    "# it gives values of log to base 2\n",
    "# syntax --> np.log2(array1)\n",
    "\n",
    "3. np.log10()\n",
    "# it gives values of log to base 10\n",
    "# syntax --> np.log10(array1)"
   ]
  },
  {
   "cell_type": "code",
   "execution_count": 43,
   "id": "eb6fcd7b",
   "metadata": {},
   "outputs": [
    {
     "name": "stdout",
     "output_type": "stream",
     "text": [
      "2.302585092994046\n",
      "[2.30258509 2.99573227 3.40119738 3.68887945]\n",
      "[0.        1.        1.5849625 2.       ]\n",
      "[1.         1.30103    1.47712125 1.65321251]\n"
     ]
    }
   ],
   "source": [
    "# np.log() --> natural log values\n",
    "print(np.log(10))\n",
    "\n",
    "# lograthmic tyransformation\n",
    "\n",
    "a1=np.array([10,20,30,40])\n",
    "print(np.log(a1))\n",
    "\n",
    "# np.log2() --> log to the base 2\n",
    "a1=np.array([1,2,3,4])\n",
    "print(np.log2(a1))\n",
    "\n",
    "# np.log10() --> log to the base 10\n",
    "a1=np.array([10,20,30,45])\n",
    "print(np.log10(a1))"
   ]
  },
  {
   "cell_type": "markdown",
   "id": "60df6dd3",
   "metadata": {},
   "source": [
    "## numpy trigrometric functions"
   ]
  },
  {
   "cell_type": "code",
   "execution_count": null,
   "id": "4d186fdf",
   "metadata": {},
   "outputs": [],
   "source": [
    "1. np.sin()\n",
    "# used to get sin values\n",
    "\n",
    "2. np.cos()\n",
    "# used to get cos values\n",
    "\n",
    "3. np.tan()\n",
    "# used to get tan values\n",
    "\n",
    "4. np.deg2rad()\n",
    "# used to convert degree to radians\n",
    "\n",
    "5. np.rad2deg()\n",
    "# used to conver radians to degree"
   ]
  },
  {
   "cell_type": "code",
   "execution_count": 54,
   "id": "d070c177",
   "metadata": {},
   "outputs": [
    {
     "name": "stdout",
     "output_type": "stream",
     "text": [
      "1.0\n",
      "0.8660254037844386\n",
      "0.7071067811865476\n",
      "0.49999999999999994\n",
      "1.0\n",
      "0.8660254037844386\n",
      "0.7071067811865476\n",
      "0.49999999999999994\n",
      "1.0\n",
      "0.8660254037844386\n",
      "0.7071067811865476\n",
      "0.49999999999999994\n",
      "0.5235987755982988\n",
      "0.7853981633974483\n",
      "1.0471975511965976\n",
      "1.5707963267948966\n",
      "values in radians : [0.52359878 0.78539816 1.04719755 1.57079633]\n"
     ]
    }
   ],
   "source": [
    "# np.pi-->180 degree\n",
    "\n",
    "# np.sin()\n",
    "print(np.sin(np.pi/2)) # sin(90)\n",
    "print(np.sin(np.pi/3)) # sin(60)\n",
    "print(np.sin(np.pi/4)) # sin(45)\n",
    "print(np.sin(np.pi/6)) # sin(30)\n",
    "\n",
    "# np.cos()\n",
    "print(np.sin(np.pi/2)) # cos(90)\n",
    "print(np.sin(np.pi/3)) # cos(60)\n",
    "print(np.sin(np.pi/4)) # cos(45)\n",
    "print(np.sin(np.pi/6)) # cos(30)\n",
    "\n",
    "# np.tan()\n",
    "print(np.sin(np.pi/2)) # tan(90)\n",
    "print(np.sin(np.pi/3)) # tan(60)\n",
    "print(np.sin(np.pi/4)) # tan(45)\n",
    "print(np.sin(np.pi/6)) # tan(30)\n",
    "\n",
    "# degreetorandians\n",
    "print(np.deg2rad(30))\n",
    "print(np.deg2rad(45))\n",
    "print(np.deg2rad(60))\n",
    "print(np.deg2rad(90))\n",
    "\n",
    "degree=np.array([30,45,60,90])\n",
    "radians=np.deg2rad(degree)\n",
    "print('values in radians :',radians)"
   ]
  },
  {
   "cell_type": "markdown",
   "id": "2fb1a4b0",
   "metadata": {},
   "source": [
    "## Important numpy interview questions"
   ]
  },
  {
   "cell_type": "markdown",
   "id": "c1d616b1",
   "metadata": {},
   "source": [
    "### How to perform matrix multiplication or dot product"
   ]
  },
  {
   "cell_type": "code",
   "execution_count": null,
   "id": "0cd6ed52",
   "metadata": {},
   "outputs": [],
   "source": [
    "1--> np.matmul(array1,array2)\n",
    "2--> np.dot(array1,array2)"
   ]
  },
  {
   "cell_type": "markdown",
   "id": "23914e98",
   "metadata": {},
   "source": [
    "### NumPy program with string functions"
   ]
  },
  {
   "cell_type": "code",
   "execution_count": 14,
   "id": "ea37b35d",
   "metadata": {},
   "outputs": [
    {
     "name": "stdout",
     "output_type": "stream",
     "text": [
      "['A' 'B' 'CA']\n",
      "['a' 'b' 'ca']\n",
      "['A' 'B' 'Ca']\n",
      "['A' 'b' 'Ca']\n"
     ]
    }
   ],
   "source": [
    "x=np.array(['a','B','cA'])\n",
    "# to convert all array element to upper case\n",
    "print(np.char.upper(x))\n",
    "# to convert all array element to lower case\n",
    "print(np.char.lower(x))\n",
    "# to convert all array element to titel case\n",
    "print(np.char.title(x))\n",
    "# to convert all array element to swapcase case\n",
    "print(np.char.swapcase(x))"
   ]
  },
  {
   "cell_type": "markdown",
   "id": "9783d1cf",
   "metadata": {},
   "source": [
    "### Filter Row of A Numpy Array "
   ]
  },
  {
   "cell_type": "code",
   "execution_count": 35,
   "id": "e0dea792",
   "metadata": {},
   "outputs": [
    {
     "name": "stdout",
     "output_type": "stream",
     "text": [
      "[[ 1  2 -3]\n",
      " [ 2  3  4]\n",
      " [ 4 -5  6]]\n",
      "rows index following given condition is: [0 2]\n",
      "rows following given condition \n",
      " [[ 1  2 -3]\n",
      " [ 4 -5  6]]\n"
     ]
    }
   ],
   "source": [
    "# to filter rows based on perticular condition\n",
    "x=np.array([[1,2,-3],[2,3,4],[4,-5,6]])\n",
    "print(x)\n",
    "\n",
    "# if we wand to find only index of rows having given condition\n",
    "r=np.where(x<0)[0]\n",
    "print('rows index following given condition is:',r)\n",
    "\n",
    "# if we want to display all rows from array following condition \n",
    "print('rows following given condition \\n',x[np.any(x<0,axis=1)])\n"
   ]
  },
  {
   "cell_type": "markdown",
   "id": "8ff8953f",
   "metadata": {},
   "source": [
    "### Remove rows with Null values"
   ]
  },
  {
   "cell_type": "code",
   "execution_count": 41,
   "id": "ac19e060",
   "metadata": {},
   "outputs": [
    {
     "name": "stdout",
     "output_type": "stream",
     "text": [
      "[[ 1.  2. nan]\n",
      " [ 2.  3.  4.]\n",
      " [nan -5.  6.]]\n",
      "[[ 1.  2. nan]\n",
      " [nan -5.  6.]]\n"
     ]
    }
   ],
   "source": [
    "x=np.array([[1,2,np.nan],[2,3,4],[np.nan,-5,6]])\n",
    "print(x)\n",
    "# to print all rows from array having at least one null vaule\n",
    "print(x[np.isnan(x).any(axis=1)])"
   ]
  },
  {
   "cell_type": "markdown",
   "id": "0e8be9be",
   "metadata": {},
   "source": [
    "### Multiply String Elements in"
   ]
  },
  {
   "cell_type": "code",
   "execution_count": 44,
   "id": "5e5d3150",
   "metadata": {},
   "outputs": [
    {
     "name": "stdout",
     "output_type": "stream",
     "text": [
      "['a' 'b' 'c']\n",
      "['aaaa' 'bbbb' 'cccc']\n"
     ]
    }
   ],
   "source": [
    "x=np.array(['a','b','c'])\n",
    "print(x)\n",
    "r=np.char.multiply(x,4)\n",
    "print(r)"
   ]
  },
  {
   "cell_type": "markdown",
   "id": "75443d54",
   "metadata": {},
   "source": [
    "### Find the minimum value with Numpy along axis "
   ]
  },
  {
   "cell_type": "code",
   "execution_count": 47,
   "id": "f9fb164b",
   "metadata": {},
   "outputs": [
    {
     "name": "stdout",
     "output_type": "stream",
     "text": [
      "[[ 1  2  3]\n",
      " [ 5  6  7]\n",
      " [10  3  4]]\n"
     ]
    },
    {
     "data": {
      "text/plain": [
       "array([1, 5, 3])"
      ]
     },
     "execution_count": 47,
     "metadata": {},
     "output_type": "execute_result"
    }
   ],
   "source": [
    "x=np.array([[1,2,3],[5,6,7],[10,3,4]])\n",
    "print(x)\n",
    "r=np.apply_along_axis(lambda x : np.min(x),arr=x,axis=1)\n",
    "r"
   ]
  },
  {
   "cell_type": "markdown",
   "id": "4b31b93e",
   "metadata": {},
   "source": [
    "### Fill diagonal value in Numpy Array -"
   ]
  },
  {
   "cell_type": "code",
   "execution_count": null,
   "id": "92e0a222",
   "metadata": {},
   "outputs": [],
   "source": []
  },
  {
   "cell_type": "markdown",
   "id": "43609d92",
   "metadata": {},
   "source": [
    "### Checking and filling number in Numpy Array"
   ]
  },
  {
   "cell_type": "code",
   "execution_count": null,
   "id": "bff7f321",
   "metadata": {},
   "outputs": [],
   "source": []
  },
  {
   "cell_type": "markdown",
   "id": "825a16bd",
   "metadata": {},
   "source": [
    "### Padding in Numpy Array"
   ]
  },
  {
   "cell_type": "code",
   "execution_count": 52,
   "id": "d34a6b13",
   "metadata": {},
   "outputs": [
    {
     "data": {
      "text/plain": [
       "array([[8, 8, 8, 8, 8, 8, 8],\n",
       "       [8, 8, 8, 8, 8, 8, 8],\n",
       "       [8, 8, 1, 2, 3, 8, 8],\n",
       "       [8, 8, 2, 3, 4, 8, 8],\n",
       "       [8, 8, 5, 5, 6, 8, 8],\n",
       "       [8, 8, 8, 8, 8, 8, 8],\n",
       "       [8, 8, 8, 8, 8, 8, 8]])"
      ]
     },
     "execution_count": 52,
     "metadata": {},
     "output_type": "execute_result"
    }
   ],
   "source": [
    "x=np.array([[1,2,3],[2,3,4],[5,5,6]])\n",
    "# np.pad(array,pad_width,mode,constant_value)\n",
    "np.pad(x,pad_width=2,mode='constant',constant_values=8)\n"
   ]
  },
  {
   "cell_type": "markdown",
   "id": "46fa967b",
   "metadata": {},
   "source": [
    "### Numpy Squeeze function in Python "
   ]
  },
  {
   "cell_type": "code",
   "execution_count": null,
   "id": "9d7708ea",
   "metadata": {},
   "outputs": [],
   "source": []
  },
  {
   "cell_type": "markdown",
   "id": "223328a8",
   "metadata": {},
   "source": [
    "### Compare two Numpy Arrays"
   ]
  },
  {
   "cell_type": "code",
   "execution_count": null,
   "id": "8fd9c9eb",
   "metadata": {},
   "outputs": [],
   "source": []
  },
  {
   "cell_type": "markdown",
   "id": "b7a1747c",
   "metadata": {},
   "source": [
    "### Determine Memory size of Numpy array"
   ]
  },
  {
   "cell_type": "code",
   "execution_count": null,
   "id": "0379ccfd",
   "metadata": {},
   "outputs": [],
   "source": []
  },
  {
   "cell_type": "code",
   "execution_count": null,
   "id": "d9c0c2fa",
   "metadata": {},
   "outputs": [],
   "source": []
  }
 ],
 "metadata": {
  "kernelspec": {
   "display_name": "Python 3 (ipykernel)",
   "language": "python",
   "name": "python3"
  },
  "language_info": {
   "codemirror_mode": {
    "name": "ipython",
    "version": 3
   },
   "file_extension": ".py",
   "mimetype": "text/x-python",
   "name": "python",
   "nbconvert_exporter": "python",
   "pygments_lexer": "ipython3",
   "version": "3.10.6"
  }
 },
 "nbformat": 4,
 "nbformat_minor": 5
}
