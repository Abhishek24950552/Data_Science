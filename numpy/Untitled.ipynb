{
 "cells": [
  {
   "cell_type": "code",
   "execution_count": 12,
   "id": "c29ffe2a",
   "metadata": {},
   "outputs": [
    {
     "name": "stdout",
     "output_type": "stream",
     "text": [
      "[0.15 0.35 0.65 0.9  1.   1.45 2.05]\n"
     ]
    }
   ],
   "source": [
    "import numpy as np\n",
    "array2 = np.array([0.15,0.20,0.30,0.25,0.1,0.45,0.60])\n",
    "r=np.cumsum(array2)\n",
    "print(r)\n",
    "# output=[0.15 0.2  0.3  0.25 0.1  0.45 0.6 ]\n",
    "# array([0.15, 0.35, 0.65, 0.9 , 1.  , 1.45, 2.05])\n"
   ]
  },
  {
   "cell_type": "code",
   "execution_count": 6,
   "id": "f62c1b13",
   "metadata": {},
   "outputs": [
    {
     "name": "stdout",
     "output_type": "stream",
     "text": [
      "3.0 + 4.0 x**1 + 4.0 x**2 + 1.0 x**3\n",
      "[-3. +0.j        -0.5-0.8660254j -0.5+0.8660254j]\n"
     ]
    }
   ],
   "source": [
    "# 3.0+4.0𝑥+2.0𝑥2+1.0𝑥3 find its roots\n",
    "x=np.polynomial.Polynomial([3,4,4,1])\n",
    "print(x)\n",
    "print(x.roots())"
   ]
  },
  {
   "cell_type": "code",
   "execution_count": 8,
   "id": "83948729",
   "metadata": {},
   "outputs": [
    {
     "name": "stdout",
     "output_type": "stream",
     "text": [
      "[4.2]\n"
     ]
    }
   ],
   "source": [
    "array1 = np.array([2,5,1,6,7])   #find mean without using mean()\n",
    "m=np.sum(array1)/np.shape(array1)\n",
    "print(m)"
   ]
  },
  {
   "cell_type": "code",
   "execution_count": 11,
   "id": "839d92b5",
   "metadata": {},
   "outputs": [
    {
     "name": "stdout",
     "output_type": "stream",
     "text": [
      "0.8660254037844387\n",
      "0.9999999999999999\n",
      "1.414213562373095\n"
     ]
    }
   ],
   "source": [
    "# find the value of cos 30,tan 45,sec 45\n",
    "print(np.cos(np.pi/6))\n",
    "print(np.tan(np.pi/4))\n",
    "print(1/(np.cos(np.pi/4)))\n"
   ]
  },
  {
   "cell_type": "code",
   "execution_count": null,
   "id": "e1d6d576",
   "metadata": {},
   "outputs": [],
   "source": []
  }
 ],
 "metadata": {
  "kernelspec": {
   "display_name": "Python 3 (ipykernel)",
   "language": "python",
   "name": "python3"
  },
  "language_info": {
   "codemirror_mode": {
    "name": "ipython",
    "version": 3
   },
   "file_extension": ".py",
   "mimetype": "text/x-python",
   "name": "python",
   "nbconvert_exporter": "python",
   "pygments_lexer": "ipython3",
   "version": "3.10.6"
  }
 },
 "nbformat": 4,
 "nbformat_minor": 5
}
