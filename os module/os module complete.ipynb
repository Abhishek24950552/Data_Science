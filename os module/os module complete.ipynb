{
 "cells": [
  {
   "cell_type": "markdown",
   "id": "d53dacca",
   "metadata": {},
   "source": [
    "## os module"
   ]
  },
  {
   "cell_type": "code",
   "execution_count": null,
   "id": "23aa41aa",
   "metadata": {},
   "outputs": [],
   "source": [
    "OS Module:\n",
    "    1. os.rename() # To rename or move files\n",
    "    2. os.remove() # To remove the files\n",
    "    3. os.path.exists() # To check file/folder \n",
    "    4. os.mkdir() # To create a folder\n",
    "    5. os.makedirs() # To create multiple folder (Tree Structure)\n",
    "    6. os.rmdir() # To delete Empty Directory\n",
    "    7. os.listdir() # list of files/folders\\\n",
    "    8. os.getcwd() # To get Current working Directory\n",
    "    9. os.path.join # To join multiple paths\n",
    "    \n",
    "    \n",
    "Shutil Module:\n",
    "    1. shutil.rmtree() # To delete empty or non-empty directory\n",
    "    2. shutil.copy() # To Copy files from one dir to other\n",
    "    \n",
    "glob module:\n",
    "    1. glob.glob(folder_path + \"*.txt\" )"
   ]
  },
  {
   "cell_type": "code",
   "execution_count": 2,
   "id": "3a1eccc1",
   "metadata": {},
   "outputs": [],
   "source": [
    "import os"
   ]
  },
  {
   "cell_type": "markdown",
   "id": "3812dbda",
   "metadata": {},
   "source": [
    "## os.rename()"
   ]
  },
  {
   "cell_type": "code",
   "execution_count": 2,
   "id": "2db9c9ff",
   "metadata": {},
   "outputs": [],
   "source": [
    "# os.rename():\n",
    "#     --to rename file if file exists in that folder \n",
    "#     --to move file from one loaction to other location\n",
    "#     --syntax--> os.rename(file name,new name)--to rename file\n",
    "#                 os.rename(original path,new path)--to move from one location to other\n",
    "\n",
    "os.rename('os_module.txt','module_os.txt') #to change os_module to module_os\n",
    "file_name='module_os.txt'\n",
    "destination_path=r'C:\\Data_Sci_velocity_All\\file haneling\\module_os.txt'\n",
    "os.rename(file_path,destination_path)"
   ]
  },
  {
   "cell_type": "code",
   "execution_count": null,
   "id": "ade823e8",
   "metadata": {},
   "outputs": [],
   "source": [
    "os.rename('os_module.txt','module_os.txt') #to change os_module to module_os"
   ]
  },
  {
   "cell_type": "code",
   "execution_count": 4,
   "id": "ee4d62dc",
   "metadata": {},
   "outputs": [],
   "source": [
    "# to move module_os.txt from original location to destination path\n",
    "file_name='module_os.txt'\n",
    "destination_path=r'C:\\Data_Sci_velocity_All\\file haneling\\module_os.txt'\n",
    "os.rename(file_name,destination_path)\n"
   ]
  },
  {
   "cell_type": "code",
   "execution_count": 6,
   "id": "597f82aa",
   "metadata": {},
   "outputs": [],
   "source": [
    "# to move file from other folder to curent folder\n",
    "file_path=r'C:\\Data_Sci_velocity_All\\file haneling\\module_os.txt'\n",
    "destination_name='cp_modupe.txt'\n",
    "os.rename(file_path,destination_name)"
   ]
  },
  {
   "cell_type": "markdown",
   "id": "d54e733b",
   "metadata": {},
   "source": [
    "## os.remove()"
   ]
  },
  {
   "cell_type": "code",
   "execution_count": 7,
   "id": "d7a174c8",
   "metadata": {},
   "outputs": [],
   "source": [
    "# os.remove():\n",
    "#     used to delete files from folder\n",
    "#     syntax--os.remove(file_path or file_name)\n",
    "#     throws error if file is not found\n",
    "file_name='cp_modupe.txt'\n",
    "os.remove(file_name)"
   ]
  },
  {
   "cell_type": "code",
   "execution_count": 8,
   "id": "f466247a",
   "metadata": {},
   "outputs": [],
   "source": [
    "# remove file using file path from any folder\n",
    "file_path=r'C:\\Data_Sci_velocity_All\\file haneling\\file1.txt'\n",
    "os.remove(file_path)"
   ]
  },
  {
   "cell_type": "markdown",
   "id": "46f94b01",
   "metadata": {},
   "source": [
    "## os.path.exists()"
   ]
  },
  {
   "cell_type": "code",
   "execution_count": 9,
   "id": "7029684e",
   "metadata": {},
   "outputs": [
    {
     "data": {
      "text/plain": [
       "False"
      ]
     },
     "execution_count": 9,
     "metadata": {},
     "output_type": "execute_result"
    }
   ],
   "source": [
    "# to check if file exists in folder\n",
    "# os.path.exists(file_path)\n",
    "# gives output as true of false\n",
    "file_path=r'C:\\Data_Sci_velocity_All\\file haneling\\file1.txt'\n",
    "os.path.exists(file_path)"
   ]
  },
  {
   "cell_type": "code",
   "execution_count": 10,
   "id": "648fbb42",
   "metadata": {},
   "outputs": [
    {
     "name": "stdout",
     "output_type": "stream",
     "text": [
      "File not found\n"
     ]
    }
   ],
   "source": [
    "# to remove files from folder without error\n",
    "# this is used in production to avoid code break if file is not present \n",
    "file_name = 'sample.txt' \n",
    "if os.path.exists('sample.txt'):\n",
    "    os.remove(file_name)\n",
    "    print('File Deleted')\n",
    "    \n",
    "else:\n",
    "    print(\"File not found\")"
   ]
  },
  {
   "cell_type": "markdown",
   "id": "ea96d1dd",
   "metadata": {},
   "source": [
    "## create folder"
   ]
  },
  {
   "cell_type": "raw",
   "id": "f07572e8",
   "metadata": {},
   "source": [
    "syntax:\n",
    "    os.mkdir(file_path)"
   ]
  },
  {
   "cell_type": "code",
   "execution_count": 3,
   "id": "06b2e28f",
   "metadata": {},
   "outputs": [],
   "source": [
    "os.mkdir('abhishek')"
   ]
  },
  {
   "cell_type": "code",
   "execution_count": 4,
   "id": "4f9aed13",
   "metadata": {},
   "outputs": [],
   "source": [
    "path=r'abhishek\\kale'\n",
    "os.mkdir(path)"
   ]
  },
  {
   "cell_type": "code",
   "execution_count": 5,
   "id": "344ef164",
   "metadata": {},
   "outputs": [],
   "source": [
    "path=r'C:\\Data_Sci_velocity_All\\os module\\pkg'\n",
    "os.mkdir(path)"
   ]
  },
  {
   "cell_type": "code",
   "execution_count": 6,
   "id": "7567fa45",
   "metadata": {},
   "outputs": [
    {
     "name": "stdout",
     "output_type": "stream",
     "text": [
      "folder present\n"
     ]
    }
   ],
   "source": [
    "# to check if folder is present and if not present create folder\n",
    "folder_path = r\"C:\\Data_Sci_velocity_All\\os module\\pkg\"\n",
    "if not os.path.exists(folder_path):\n",
    "    os.mkdir(folder_path)\n",
    "else:\n",
    "    print(\"folder present\")\n",
    "    "
   ]
  },
  {
   "cell_type": "markdown",
   "id": "7a92bad5",
   "metadata": {},
   "source": [
    "## os.makedirs()"
   ]
  },
  {
   "cell_type": "code",
   "execution_count": 7,
   "id": "1d819b30",
   "metadata": {},
   "outputs": [],
   "source": [
    "# will create nested folder(filder in folder)\n",
    "path=r'C:\\Data_Sci_velocity_All\\os module\\pkg\\pkg1\\subpkg'\n",
    "os.makedirs(path)"
   ]
  },
  {
   "cell_type": "markdown",
   "id": "1b4d6dd2",
   "metadata": {},
   "source": [
    "## os.rmdir()"
   ]
  },
  {
   "cell_type": "code",
   "execution_count": 9,
   "id": "df636b86",
   "metadata": {},
   "outputs": [
    {
     "ename": "FileNotFoundError",
     "evalue": "[WinError 2] The system cannot find the file specified: 'C:\\\\Data_Sci_velocity_All\\\\os module\\\\pkg\\\\pkg1\\\\subpkg'",
     "output_type": "error",
     "traceback": [
      "\u001b[1;31m---------------------------------------------------------------------------\u001b[0m",
      "\u001b[1;31mFileNotFoundError\u001b[0m                         Traceback (most recent call last)",
      "Input \u001b[1;32mIn [9]\u001b[0m, in \u001b[0;36m<cell line: 3>\u001b[1;34m()\u001b[0m\n\u001b[0;32m      1\u001b[0m \u001b[38;5;66;03m# will delete empty folder\u001b[39;00m\n\u001b[0;32m      2\u001b[0m path\u001b[38;5;241m=\u001b[39m\u001b[38;5;124mr\u001b[39m\u001b[38;5;124m'\u001b[39m\u001b[38;5;124mC:\u001b[39m\u001b[38;5;124m\\\u001b[39m\u001b[38;5;124mData_Sci_velocity_All\u001b[39m\u001b[38;5;124m\\\u001b[39m\u001b[38;5;124mos module\u001b[39m\u001b[38;5;124m\\\u001b[39m\u001b[38;5;124mpkg\u001b[39m\u001b[38;5;124m\\\u001b[39m\u001b[38;5;124mpkg1\u001b[39m\u001b[38;5;124m\\\u001b[39m\u001b[38;5;124msubpkg\u001b[39m\u001b[38;5;124m'\u001b[39m\n\u001b[1;32m----> 3\u001b[0m \u001b[43mos\u001b[49m\u001b[38;5;241;43m.\u001b[39;49m\u001b[43mrmdir\u001b[49m\u001b[43m(\u001b[49m\u001b[43mpath\u001b[49m\u001b[43m)\u001b[49m\n",
      "\u001b[1;31mFileNotFoundError\u001b[0m: [WinError 2] The system cannot find the file specified: 'C:\\\\Data_Sci_velocity_All\\\\os module\\\\pkg\\\\pkg1\\\\subpkg'"
     ]
    }
   ],
   "source": [
    "# will delete empty folder\n",
    "# if file is not found it will throw error\n",
    "# throws error if folder is not empty(also if folder contain empty folder)\n",
    "path=r'C:\\Data_Sci_velocity_All\\os module\\pkg\\pkg1\\subpkg'\n",
    "os.rmdir(path)"
   ]
  },
  {
   "cell_type": "code",
   "execution_count": 11,
   "id": "4b544109",
   "metadata": {},
   "outputs": [],
   "source": [
    "# throws error when folder contains empty folder\n",
    "path=r'C:\\Data_Sci_velocity_All\\os module\\pkg\\pkg1'\n",
    "os.rmdir(path)"
   ]
  },
  {
   "cell_type": "code",
   "execution_count": 12,
   "id": "afb9b20c",
   "metadata": {},
   "outputs": [
    {
     "name": "stdout",
     "output_type": "stream",
     "text": [
      "Folder not found\n"
     ]
    }
   ],
   "source": [
    "# to check if folder is present and if present remove it\n",
    "path=r'C:\\Data_Sci_velocity_All\\os module\\pkg\\pkg1'\n",
    "if os.path.exists(path):\n",
    "    os.rmdir(path)\n",
    "    print(\"Folder Deleted\")\n",
    "else:\n",
    "    print(\"Folder not found\")"
   ]
  },
  {
   "cell_type": "markdown",
   "id": "b1279088",
   "metadata": {},
   "source": [
    "## delete non empty dirictory"
   ]
  },
  {
   "cell_type": "code",
   "execution_count": 13,
   "id": "94e746f5",
   "metadata": {},
   "outputs": [
    {
     "name": "stdout",
     "output_type": "stream",
     "text": [
      "Folder Deleted\n"
     ]
    }
   ],
   "source": [
    "# to delete folder containing files use shutil lib and shutil.rmtree() function\n",
    "import shutil\n",
    "path=r'C:\\Data_Sci_velocity_All\\os module\\pkg'\n",
    "if os.path.exists(path): # True\n",
    "    shutil.rmtree(path)\n",
    "    print(\"Folder Deleted\")    \n",
    "else:\n",
    "    print(\"Folder not found\")"
   ]
  },
  {
   "cell_type": "markdown",
   "id": "a8507576",
   "metadata": {},
   "source": [
    "## check files and folder in dir"
   ]
  },
  {
   "cell_type": "code",
   "execution_count": null,
   "id": "3121d664",
   "metadata": {},
   "outputs": [],
   "source": [
    "os.listdir(folder_path)\n",
    "gives items from folder in list from "
   ]
  },
  {
   "cell_type": "code",
   "execution_count": 14,
   "id": "a5ee7e55",
   "metadata": {},
   "outputs": [
    {
     "data": {
      "text/plain": [
       "['.ipynb_checkpoints', 'abhishek', 'os module complete.ipynb', 'os_mod.txt']"
      ]
     },
     "execution_count": 14,
     "metadata": {},
     "output_type": "execute_result"
    }
   ],
   "source": [
    "path=r'C:\\Data_Sci_velocity_All\\os module'\n",
    "os.listdir(path)"
   ]
  },
  {
   "cell_type": "markdown",
   "id": "765a558a",
   "metadata": {},
   "source": [
    "## get current working dir"
   ]
  },
  {
   "cell_type": "code",
   "execution_count": 15,
   "id": "b8c41f19",
   "metadata": {},
   "outputs": [
    {
     "data": {
      "text/plain": [
       "'C:\\\\Data_Sci_velocity_All\\\\os module'"
      ]
     },
     "execution_count": 15,
     "metadata": {},
     "output_type": "execute_result"
    }
   ],
   "source": [
    "os.getcwd()"
   ]
  },
  {
   "cell_type": "markdown",
   "id": "6fdd545a",
   "metadata": {},
   "source": [
    "## join multiple path"
   ]
  },
  {
   "cell_type": "code",
   "execution_count": null,
   "id": "d96d2cbf",
   "metadata": {},
   "outputs": [],
   "source": [
    "syntax--> os.path.join()"
   ]
  },
  {
   "cell_type": "code",
   "execution_count": 1,
   "id": "d996869a",
   "metadata": {},
   "outputs": [
    {
     "name": "stdout",
     "output_type": "stream",
     "text": [
      "C:\\Data_Sci_velocity_All\\os module\\file2\n"
     ]
    }
   ],
   "source": [
    "import os\n",
    "folder=r'C:\\Data_Sci_velocity_All'\n",
    "file='os module'\n",
    "path = os.path.join(folder,file,x)\n",
    "print(path)"
   ]
  },
  {
   "cell_type": "markdown",
   "id": "cca4836b",
   "metadata": {},
   "source": [
    "## shutil copy"
   ]
  },
  {
   "cell_type": "code",
   "execution_count": 1,
   "id": "e1913d85",
   "metadata": {},
   "outputs": [
    {
     "data": {
      "text/plain": [
       "'C:\\\\Data_Sci_velocity_All\\\\file haneling\\\\os_mod.txt'"
      ]
     },
     "execution_count": 1,
     "metadata": {},
     "output_type": "execute_result"
    }
   ],
   "source": [
    "import shutil\n",
    "src=r'C:\\Data_Sci_velocity_All\\os module\\os_mod.txt'\n",
    "dest=r'C:\\Data_Sci_velocity_All\\file haneling'\n",
    "shutil.copy(src,dest)"
   ]
  },
  {
   "cell_type": "code",
   "execution_count": null,
   "id": "50eb68c2",
   "metadata": {},
   "outputs": [],
   "source": []
  },
  {
   "cell_type": "markdown",
   "id": "f216ddbe",
   "metadata": {},
   "source": [
    "## glob"
   ]
  },
  {
   "cell_type": "code",
   "execution_count": 2,
   "id": "9415d318",
   "metadata": {},
   "outputs": [
    {
     "name": "stdout",
     "output_type": "stream",
     "text": [
      "['C:\\\\Data_Sci_velocity_All\\\\file haneling\\\\clean.txt', 'C:\\\\Data_Sci_velocity_All\\\\file haneling\\\\data.txt', 'C:\\\\Data_Sci_velocity_All\\\\file haneling\\\\data1.txt', 'C:\\\\Data_Sci_velocity_All\\\\file haneling\\\\data2.txt', 'C:\\\\Data_Sci_velocity_All\\\\file haneling\\\\data8.txt', 'C:\\\\Data_Sci_velocity_All\\\\file haneling\\\\deep.txt', 'C:\\\\Data_Sci_velocity_All\\\\file haneling\\\\file2.txt', 'C:\\\\Data_Sci_velocity_All\\\\file haneling\\\\nf.txt', 'C:\\\\Data_Sci_velocity_All\\\\file haneling\\\\os_mod.txt', 'C:\\\\Data_Sci_velocity_All\\\\file haneling\\\\remove.txt']\n"
     ]
    }
   ],
   "source": [
    "# glob() is used to get list of all files with specific extension\n",
    "# syntax:\n",
    "#     glob.glob(path+extension)\n",
    "import glob\n",
    "path=r'C:\\Data_Sci_velocity_All\\file haneling'\n",
    "text=glob.glob(path+'\\\\'+'*.txt')\n",
    "print(text)"
   ]
  },
  {
   "cell_type": "markdown",
   "id": "25fc5d7e",
   "metadata": {},
   "source": [
    "## dir(os)"
   ]
  },
  {
   "cell_type": "code",
   "execution_count": null,
   "id": "4a073180",
   "metadata": {},
   "outputs": [],
   "source": [
    "# dir():\n",
    "#     to get all functions of os module\n",
    "# syntax:\n",
    "#     dir(os)"
   ]
  }
 ],
 "metadata": {
  "kernelspec": {
   "display_name": "Python 3 (ipykernel)",
   "language": "python",
   "name": "python3"
  },
  "language_info": {
   "codemirror_mode": {
    "name": "ipython",
    "version": 3
   },
   "file_extension": ".py",
   "mimetype": "text/x-python",
   "name": "python",
   "nbconvert_exporter": "python",
   "pygments_lexer": "ipython3",
   "version": "3.10.6"
  }
 },
 "nbformat": 4,
 "nbformat_minor": 5
}
