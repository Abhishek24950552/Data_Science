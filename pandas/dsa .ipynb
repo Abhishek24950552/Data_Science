{
 "cells": [
  {
   "cell_type": "code",
   "execution_count": null,
   "id": "eb5413e8",
   "metadata": {},
   "outputs": [],
   "source": [
    "import java.util.*;\n",
    "public class Main\n",
    "{\n",
    "public static void main (String[] args)\n",
    "{\n",
    "Scanner sc = new Scanner(System.in);\n",
    "int num;\n",
    "int temp;\n",
    "int x1=0;\n",
    "int x2=0;\n",
    "int position1=0;\n",
    "int position2=0;\n",
    "int maxi=0;\n",
    "System.out.println(\"Enter the number of houses:\");\n",
    "num = sc.nextInt();\n",
    "int house_number[] = new int[num];\n",
    "int position[] = new int[num];\n",
    "int copy_position[] = new int[num];\n",
    "System.out.println(\"Enter the house number and position of the house:\");\n",
    "for(int i=0; i<num; i++)\n",
    "{\n",
    "house_number[i] = sc.nextInt();\n",
    "}\n",
    "System.out.println(\"Input:\");\n",
    "for(int i=0; i<num; i++)\n",
    "{\n",
    "System.out.print(\"[\" + house_number[i] + \",\" + position[i] + \"]\");\n",
    "}\n",
    "System.out.println(\"\");\n",
    "for(int i=0; i<num; i++)\n",
    "{\n",
    "copy_position[i] = position[i];\n",
    "}\n",
    "Arrays.sort(copy_position);\n",
    "for(int i=0; i<num-1;i++){\n",
    "temp = copy_position[i+1] - copy_position[i];\n",
    "if(temp>maxi)\n",
    "{\n",
    "maxi = temp;\n",
    "x1 = copy_position[i];\n",
    "x2 = copy_position[i+1];\n",
    "}\n",
    "}\n",
    "for(int i=0; i<num; i++) //The elements position are found in the main position array\n",
    "{\n",
    "if(x1 == position[i])\n",
    "{\n",
    "position1 = i;\n",
    "}\n",
    "else if (x2 == position[i])\n",
    "{\n",
    "position2 = i;\n",
    "}\n",
    "}\n",
    "if(house_number[position1]>house_number[position2]) //The house number is displayed which is matched by the position obtained\n",
    "{\n",
    "System.out.println(\"Result: [\" + house_number[position2] + \",\" + house_number[position1] + \"]\");\n",
    "}\n",
    "else\n",
    "{\n",
    "System.out.println(\"Result: [\" + house_number[position1] + \",\"+ house_number[position2] + \"]\");\n",
    "}\n",
    "}\n",
    "}"
   ]
  },
  {
   "cell_type": "code",
   "execution_count": null,
   "id": "a54c8305",
   "metadata": {},
   "outputs": [],
   "source": [
    "no_houses=input('enter no of houses')\n",
    "house=[]\n",
    "h=input('enter house')\n",
    "n=input('enter house no')\n",
    "x=[]\n",
    "x.append(h)\n",
    "x.append(n)\n"
   ]
  },
  {
   "cell_type": "code",
   "execution_count": 3,
   "id": "d9fbf82f",
   "metadata": {},
   "outputs": [
    {
     "name": "stdout",
     "output_type": "stream",
     "text": [
      "[(1, 1), (2, 2), (3, 3)]\n"
     ]
    }
   ],
   "source": [
    "l1=[1,2,3]\n",
    "l2=[1,2,3]\n",
    "l3=list(zip(l1,l2))\n",
    "print(l3)"
   ]
  },
  {
   "cell_type": "code",
   "execution_count": null,
   "id": "d6f41510",
   "metadata": {},
   "outputs": [],
   "source": []
  }
 ],
 "metadata": {
  "kernelspec": {
   "display_name": "Python 3 (ipykernel)",
   "language": "python",
   "name": "python3"
  },
  "language_info": {
   "codemirror_mode": {
    "name": "ipython",
    "version": 3
   },
   "file_extension": ".py",
   "mimetype": "text/x-python",
   "name": "python",
   "nbconvert_exporter": "python",
   "pygments_lexer": "ipython3",
   "version": "3.10.6"
  }
 },
 "nbformat": 4,
 "nbformat_minor": 5
}
